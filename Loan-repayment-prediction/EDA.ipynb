{
 "cells": [
  {
   "cell_type": "markdown",
   "id": "909990d3-b00d-406f-a994-ed6846990db0",
   "metadata": {},
   "source": [
    "# Introduction\n",
    "# Dataset\n",
    "The dataset used for this project is derived from https://www.udemy.com/course/python-for-data-science-and-machine-learning-bootcamp/?couponCode=KEEPLEARNING. This is a lending club Data. It contains historical loan data, including borrower characteristics, loan information, and performance metrics. The dataset encompasses various features such as annual income, loan amounts, credit scores, and repayment history, enabling a comprehensive analysis of factors influencing loan defaults.\n",
    "\n",
    "LendingClub is a US peer-to-peer lending company, headquartered in San Francisco, California.[3] It was the first peer-to-peer lender to register its offerings as securities with the Securities and Exchange Commission (SEC), and to offer loan trading on a secondary market. LendingClub is the world's largest peer-to-peer lending platform.\n",
    "\n",
    "### Our Goal\n",
    "\n",
    "Given historical data on loans given out with information on whether or not the borrower defaulted (charge-off), can we build a model thatcan predict wether or nor a borrower will pay back their loan? This way in the future when we get a new potential customer we can assess whether or not they are likely to pay back the loan. Keep in mind classification metrics when evaluating the performance of your model!\n",
    "\n",
    "The \"loan_status\" column contains our label."
   ]
  },
  {
   "cell_type": "markdown",
   "id": "ea4c5cd1-67da-4653-890f-129a2bc7ca87",
   "metadata": {},
   "source": []
  },
  {
   "cell_type": "markdown",
   "id": "81663344-0c8c-4518-beb9-86d17a6680a2",
   "metadata": {},
   "source": [
    "## Loading the data and other imports needs for EDA"
   ]
  },
  {
   "cell_type": "code",
   "execution_count": 34,
   "id": "29fdd1ac-7dec-48f6-a2ac-e46956359f6a",
   "metadata": {},
   "outputs": [],
   "source": [
    "import pandas as pd\n",
    "import seaborn as sns\n",
    "import matplotlib.pyplot as plt"
   ]
  },
  {
   "cell_type": "code",
   "execution_count": 35,
   "id": "cb9ff3cd-7312-4708-b915-63dc77beda35",
   "metadata": {
    "scrolled": true
   },
   "outputs": [
    {
     "name": "stdout",
     "output_type": "stream",
     "text": [
      "<class 'pandas.core.frame.DataFrame'>\n",
      "RangeIndex: 396030 entries, 0 to 396029\n",
      "Data columns (total 27 columns):\n",
      " #   Column                Non-Null Count   Dtype  \n",
      "---  ------                --------------   -----  \n",
      " 0   loan_amnt             396030 non-null  float64\n",
      " 1   term                  396030 non-null  object \n",
      " 2   int_rate              396030 non-null  float64\n",
      " 3   installment           396030 non-null  float64\n",
      " 4   grade                 396030 non-null  object \n",
      " 5   sub_grade             396030 non-null  object \n",
      " 6   emp_title             373103 non-null  object \n",
      " 7   emp_length            377729 non-null  object \n",
      " 8   home_ownership        396030 non-null  object \n",
      " 9   annual_inc            396030 non-null  float64\n",
      " 10  verification_status   396030 non-null  object \n",
      " 11  issue_d               396030 non-null  object \n",
      " 12  loan_status           396030 non-null  object \n",
      " 13  purpose               396030 non-null  object \n",
      " 14  title                 394274 non-null  object \n",
      " 15  dti                   396030 non-null  float64\n",
      " 16  earliest_cr_line      396030 non-null  object \n",
      " 17  open_acc              396030 non-null  float64\n",
      " 18  pub_rec               396030 non-null  float64\n",
      " 19  revol_bal             396030 non-null  float64\n",
      " 20  revol_util            395754 non-null  float64\n",
      " 21  total_acc             396030 non-null  float64\n",
      " 22  initial_list_status   396030 non-null  object \n",
      " 23  application_type      396030 non-null  object \n",
      " 24  mort_acc              358235 non-null  float64\n",
      " 25  pub_rec_bankruptcies  395495 non-null  float64\n",
      " 26  address               396030 non-null  object \n",
      "dtypes: float64(12), object(15)\n",
      "memory usage: 81.6+ MB\n"
     ]
    }
   ],
   "source": [
    "df = pd.read_csv(\"lending_club_loan_two.csv\")\n",
    "df.head()\n",
    "df.info()"
   ]
  },
  {
   "cell_type": "markdown",
   "id": "d3753ad3-35bc-482b-b6e6-be4430367d60",
   "metadata": {},
   "source": [
    "**EDA**"
   ]
  },
  {
   "cell_type": "markdown",
   "id": "af6a3efb-9da4-4a0f-9f76-9a0eda2dddf0",
   "metadata": {},
   "source": [
    "# First will check how our class is distributed"
   ]
  },
  {
   "cell_type": "code",
   "execution_count": 36,
   "id": "43ac7d0b-6bcf-4a89-841b-5c8b258da4be",
   "metadata": {
    "scrolled": true
   },
   "outputs": [
    {
     "data": {
      "text/plain": [
       "<Axes: xlabel='loan_status', ylabel='count'>"
      ]
     },
     "execution_count": 36,
     "metadata": {},
     "output_type": "execute_result"
    },
    {
     "data": {
      "image/png": "[encoded data removed]",
      "text/plain": [
       "<Figure size 640x480 with 1 Axes>"
      ]
     },
     "metadata": {},
     "output_type": "display_data"
    }
   ],
   "source": [
    "sns.countplot(x = \"loan_status\",data = df)"
   ]
  },
  {
   "cell_type": "markdown",
   "id": "b7b23fe3-5ae0-4979-85c3-c4ceacce58bf",
   "metadata": {},
   "source": [
    "we can clearly see a class imbalance\n",
    "later we might need to fix the class imbalance in model developement¶"
   ]
  },
  {
   "cell_type": "code",
   "execution_count": 37,
   "id": "56dfa785-3ae0-4cbc-bf5c-c88a265accd8",
   "metadata": {
    "scrolled": true
   },
   "outputs": [
    {
     "data": {
      "text/plain": [
       "loan_status\n",
       "Fully Paid     318357\n",
       "Charged Off     77673\n",
       "Name: count, dtype: int64"
      ]
     },
     "execution_count": 37,
     "metadata": {},
     "output_type": "execute_result"
    }
   ],
   "source": [
    "# get the count\n",
    "df[\"loan_status\"].value_counts()"
   ]
  },
  {
   "cell_type": "markdown",
   "id": "310ea702-475e-4cf6-a945-27cc379036a6",
   "metadata": {},
   "source": [
    "# lets check relationship with all other numerical columns"
   ]
  },
  {
   "cell_type": "code",
   "execution_count": 38,
   "id": "a42dac7f-935d-4c9f-b714-e6bfc70bb22a",
   "metadata": {},
   "outputs": [
    {
     "data": {
      "text/html": [
       "<div>\n",
       "<style scoped>\n",
       "    .dataframe tbody tr th:only-of-type {\n",
       "        vertical-align: middle;\n",
       "    }\n",
       "\n",
       "    .dataframe tbody tr th {\n",
       "        vertical-align: top;\n",
       "    }\n",
       "\n",
       "    .dataframe thead th {\n",
       "        text-align: right;\n",
       "    }\n",
       "</style>\n",
       "<table border=\"1\" class=\"dataframe\">\n",
       "  <thead>\n",
       "    <tr style=\"text-align: right;\">\n",
       "      <th></th>\n",
       "      <th>loan_amnt</th>\n",
       "      <th>int_rate</th>\n",
       "      <th>installment</th>\n",
       "      <th>annual_inc</th>\n",
       "      <th>dti</th>\n",
       "      <th>open_acc</th>\n",
       "      <th>pub_rec</th>\n",
       "      <th>revol_bal</th>\n",
       "      <th>revol_util</th>\n",
       "      <th>total_acc</th>\n",
       "      <th>mort_acc</th>\n",
       "      <th>pub_rec_bankruptcies</th>\n",
       "    </tr>\n",
       "  </thead>\n",
       "  <tbody>\n",
       "    <tr>\n",
       "      <th>loan_amnt</th>\n",
       "      <td>1.000000</td>\n",
       "      <td>0.168921</td>\n",
       "      <td>0.953929</td>\n",
       "      <td>0.336887</td>\n",
       "      <td>0.016636</td>\n",
       "      <td>0.198556</td>\n",
       "      <td>-0.077779</td>\n",
       "      <td>0.328320</td>\n",
       "      <td>0.099911</td>\n",
       "      <td>0.223886</td>\n",
       "      <td>0.222315</td>\n",
       "      <td>-0.106539</td>\n",
       "    </tr>\n",
       "    <tr>\n",
       "      <th>int_rate</th>\n",
       "      <td>0.168921</td>\n",
       "      <td>1.000000</td>\n",
       "      <td>0.162758</td>\n",
       "      <td>-0.056771</td>\n",
       "      <td>0.079038</td>\n",
       "      <td>0.011649</td>\n",
       "      <td>0.060986</td>\n",
       "      <td>-0.011280</td>\n",
       "      <td>0.293659</td>\n",
       "      <td>-0.036404</td>\n",
       "      <td>-0.082583</td>\n",
       "      <td>0.057450</td>\n",
       "    </tr>\n",
       "    <tr>\n",
       "      <th>installment</th>\n",
       "      <td>0.953929</td>\n",
       "      <td>0.162758</td>\n",
       "      <td>1.000000</td>\n",
       "      <td>0.330381</td>\n",
       "      <td>0.015786</td>\n",
       "      <td>0.188973</td>\n",
       "      <td>-0.067892</td>\n",
       "      <td>0.316455</td>\n",
       "      <td>0.123915</td>\n",
       "      <td>0.202430</td>\n",
       "      <td>0.193694</td>\n",
       "      <td>-0.098628</td>\n",
       "    </tr>\n",
       "    <tr>\n",
       "      <th>annual_inc</th>\n",
       "      <td>0.336887</td>\n",
       "      <td>-0.056771</td>\n",
       "      <td>0.330381</td>\n",
       "      <td>1.000000</td>\n",
       "      <td>-0.081685</td>\n",
       "      <td>0.136150</td>\n",
       "      <td>-0.013720</td>\n",
       "      <td>0.299773</td>\n",
       "      <td>0.027871</td>\n",
       "      <td>0.193023</td>\n",
       "      <td>0.236320</td>\n",
       "      <td>-0.050162</td>\n",
       "    </tr>\n",
       "    <tr>\n",
       "      <th>dti</th>\n",
       "      <td>0.016636</td>\n",
       "      <td>0.079038</td>\n",
       "      <td>0.015786</td>\n",
       "      <td>-0.081685</td>\n",
       "      <td>1.000000</td>\n",
       "      <td>0.136181</td>\n",
       "      <td>-0.017639</td>\n",
       "      <td>0.063571</td>\n",
       "      <td>0.088375</td>\n",
       "      <td>0.102128</td>\n",
       "      <td>-0.025439</td>\n",
       "      <td>-0.014558</td>\n",
       "    </tr>\n",
       "    <tr>\n",
       "      <th>open_acc</th>\n",
       "      <td>0.198556</td>\n",
       "      <td>0.011649</td>\n",
       "      <td>0.188973</td>\n",
       "      <td>0.136150</td>\n",
       "      <td>0.136181</td>\n",
       "      <td>1.000000</td>\n",
       "      <td>-0.018392</td>\n",
       "      <td>0.221192</td>\n",
       "      <td>-0.131420</td>\n",
       "      <td>0.680728</td>\n",
       "      <td>0.109205</td>\n",
       "      <td>-0.027732</td>\n",
       "    </tr>\n",
       "    <tr>\n",
       "      <th>pub_rec</th>\n",
       "      <td>-0.077779</td>\n",
       "      <td>0.060986</td>\n",
       "      <td>-0.067892</td>\n",
       "      <td>-0.013720</td>\n",
       "      <td>-0.017639</td>\n",
       "      <td>-0.018392</td>\n",
       "      <td>1.000000</td>\n",
       "      <td>-0.101664</td>\n",
       "      <td>-0.075910</td>\n",
       "      <td>0.019723</td>\n",
       "      <td>0.011552</td>\n",
       "      <td>0.699408</td>\n",
       "    </tr>\n",
       "    <tr>\n",
       "      <th>revol_bal</th>\n",
       "      <td>0.328320</td>\n",
       "      <td>-0.011280</td>\n",
       "      <td>0.316455</td>\n",
       "      <td>0.299773</td>\n",
       "      <td>0.063571</td>\n",
       "      <td>0.221192</td>\n",
       "      <td>-0.101664</td>\n",
       "      <td>1.000000</td>\n",
       "      <td>0.226346</td>\n",
       "      <td>0.191616</td>\n",
       "      <td>0.194925</td>\n",
       "      <td>-0.124532</td>\n",
       "    </tr>\n",
       "    <tr>\n",
       "      <th>revol_util</th>\n",
       "      <td>0.099911</td>\n",
       "      <td>0.293659</td>\n",
       "      <td>0.123915</td>\n",
       "      <td>0.027871</td>\n",
       "      <td>0.088375</td>\n",
       "      <td>-0.131420</td>\n",
       "      <td>-0.075910</td>\n",
       "      <td>0.226346</td>\n",
       "      <td>1.000000</td>\n",
       "      <td>-0.104273</td>\n",
       "      <td>0.007514</td>\n",
       "      <td>-0.086751</td>\n",
       "    </tr>\n",
       "    <tr>\n",
       "      <th>total_acc</th>\n",
       "      <td>0.223886</td>\n",
       "      <td>-0.036404</td>\n",
       "      <td>0.202430</td>\n",
       "      <td>0.193023</td>\n",
       "      <td>0.102128</td>\n",
       "      <td>0.680728</td>\n",
       "      <td>0.019723</td>\n",
       "      <td>0.191616</td>\n",
       "      <td>-0.104273</td>\n",
       "      <td>1.000000</td>\n",
       "      <td>0.381072</td>\n",
       "      <td>0.042035</td>\n",
       "    </tr>\n",
       "    <tr>\n",
       "      <th>mort_acc</th>\n",
       "      <td>0.222315</td>\n",
       "      <td>-0.082583</td>\n",
       "      <td>0.193694</td>\n",
       "      <td>0.236320</td>\n",
       "      <td>-0.025439</td>\n",
       "      <td>0.109205</td>\n",
       "      <td>0.011552</td>\n",
       "      <td>0.194925</td>\n",
       "      <td>0.007514</td>\n",
       "      <td>0.381072</td>\n",
       "      <td>1.000000</td>\n",
       "      <td>0.027239</td>\n",
       "    </tr>\n",
       "    <tr>\n",
       "      <th>pub_rec_bankruptcies</th>\n",
       "      <td>-0.106539</td>\n",
       "      <td>0.057450</td>\n",
       "      <td>-0.098628</td>\n",
       "      <td>-0.050162</td>\n",
       "      <td>-0.014558</td>\n",
       "      <td>-0.027732</td>\n",
       "      <td>0.699408</td>\n",
       "      <td>-0.124532</td>\n",
       "      <td>-0.086751</td>\n",
       "      <td>0.042035</td>\n",
       "      <td>0.027239</td>\n",
       "      <td>1.000000</td>\n",
       "    </tr>\n",
       "  </tbody>\n",
       "</table>\n",
       "</div>"
      ],
      "text/plain": [
       "                      loan_amnt  int_rate  installment  annual_inc       dti  \\\n",
       "loan_amnt              1.000000  0.168921     0.953929    0.336887  0.016636   \n",
       "int_rate               0.168921  1.000000     0.162758   -0.056771  0.079038   \n",
       "installment            0.953929  0.162758     1.000000    0.330381  0.015786   \n",
       "annual_inc             0.336887 -0.056771     0.330381    1.000000 -0.081685   \n",
       "dti                    0.016636  0.079038     0.015786   -0.081685  1.000000   \n",
       "open_acc               0.198556  0.011649     0.188973    0.136150  0.136181   \n",
       "pub_rec               -0.077779  0.060986    -0.067892   -0.013720 -0.017639   \n",
       "revol_bal              0.328320 -0.011280     0.316455    0.299773  0.063571   \n",
       "revol_util             0.099911  0.293659     0.123915    0.027871  0.088375   \n",
       "total_acc              0.223886 -0.036404     0.202430    0.193023  0.102128   \n",
       "mort_acc               0.222315 -0.082583     0.193694    0.236320 -0.025439   \n",
       "pub_rec_bankruptcies  -0.106539  0.057450    -0.098628   -0.050162 -0.014558   \n",
       "\n",
       "                      open_acc   pub_rec  revol_bal  revol_util  total_acc  \\\n",
       "loan_amnt             0.198556 -0.077779   0.328320    0.099911   0.223886   \n",
       "int_rate              0.011649  0.060986  -0.011280    0.293659  -0.036404   \n",
       "installment           0.188973 -0.067892   0.316455    0.123915   0.202430   \n",
       "annual_inc            0.136150 -0.013720   0.299773    0.027871   0.193023   \n",
       "dti                   0.136181 -0.017639   0.063571    0.088375   0.102128   \n",
       "open_acc              1.000000 -0.018392   0.221192   -0.131420   0.680728   \n",
       "pub_rec              -0.018392  1.000000  -0.101664   -0.075910   0.019723   \n",
       "revol_bal             0.221192 -0.101664   1.000000    0.226346   0.191616   \n",
       "revol_util           -0.131420 -0.075910   0.226346    1.000000  -0.104273   \n",
       "total_acc             0.680728  0.019723   0.191616   -0.104273   1.000000   \n",
       "mort_acc              0.109205  0.011552   0.194925    0.007514   0.381072   \n",
       "pub_rec_bankruptcies -0.027732  0.699408  -0.124532   -0.086751   0.042035   \n",
       "\n",
       "                      mort_acc  pub_rec_bankruptcies  \n",
       "loan_amnt             0.222315             -0.106539  \n",
       "int_rate             -0.082583              0.057450  \n",
       "installment           0.193694             -0.098628  \n",
       "annual_inc            0.236320             -0.050162  \n",
       "dti                  -0.025439             -0.014558  \n",
       "open_acc              0.109205             -0.027732  \n",
       "pub_rec               0.011552              0.699408  \n",
       "revol_bal             0.194925             -0.124532  \n",
       "revol_util            0.007514             -0.086751  \n",
       "total_acc             0.381072              0.042035  \n",
       "mort_acc              1.000000              0.027239  \n",
       "pub_rec_bankruptcies  0.027239              1.000000  "
      ]
     },
     "execution_count": 38,
     "metadata": {},
     "output_type": "execute_result"
    }
   ],
   "source": [
    "df.select_dtypes(include = 'number').corr()"
   ]
  },
  {
   "cell_type": "markdown",
   "id": "ac14caf8-a002-4487-9ef8-c6a91a892df7",
   "metadata": {},
   "source": [
    "# lets create a heatmap to visualize it better"
   ]
  },
  {
   "cell_type": "code",
   "execution_count": 39,
   "id": "63a51f51-a8d6-4270-a0cf-5200eeb8c8d5",
   "metadata": {},
   "outputs": [
    {
     "data": {
      "text/plain": [
       "<Axes: >"
      ]
     },
     "execution_count": 39,
     "metadata": {},
     "output_type": "execute_result"
    },
    {
     "data": {
      "image/png": "[encoded data removed]",
      "text/plain": [
       "<Figure size 1400x600 with 2 Axes>"
      ]
     },
     "metadata": {},
     "output_type": "display_data"
    }
   ],
   "source": [
    "plt.figure(figsize= (14,6))\n",
    "sns.heatmap(df.select_dtypes(include = [\"number\"]).corr(),annot = True)"
   ]
  },
  {
   "cell_type": "markdown",
   "id": "289723aa-2bf4-481f-9912-ee1cffdda505",
   "metadata": {},
   "source": [
    "# now we will explore the features where corelation is high"
   ]
  },
  {
   "cell_type": "code",
   "execution_count": 40,
   "id": "7950c8bc-b173-49c2-a9f1-494018d5f8e5",
   "metadata": {
    "scrolled": true
   },
   "outputs": [
    {
     "data": {
      "text/plain": [
       "<Axes: xlabel='total_acc', ylabel='open_acc'>"
      ]
     },
     "execution_count": 40,
     "metadata": {},
     "output_type": "execute_result"
    },
    {
     "data": {
      "image/png": "[encoded data removed]",
      "text/plain": [
       "<Figure size 640x480 with 1 Axes>"
      ]
     },
     "metadata": {},
     "output_type": "display_data"
    }
   ],
   "source": [
    "sns.scatterplot(x = \"total_acc\",y = \"open_acc\",data = df)"
   ]
  },
  {
   "cell_type": "code",
   "execution_count": 41,
   "id": "53ae5143-bbd7-4428-86a5-01a8720c45ea",
   "metadata": {},
   "outputs": [],
   "source": [
    "# lets explore with target class"
   ]
  },
  {
   "cell_type": "code",
   "execution_count": 42,
   "id": "4195683d-8553-464c-a6dc-c5540f6e2507",
   "metadata": {},
   "outputs": [
    {
     "data": {
      "text/plain": [
       "<Axes: xlabel='loan_status', ylabel='loan_amnt'>"
      ]
     },
     "execution_count": 42,
     "metadata": {},
     "output_type": "execute_result"
    },
    {
     "data": {
      "image/png": "[encoded data removed]",
      "text/plain": [
       "<Figure size 640x480 with 1 Axes>"
      ]
     },
     "metadata": {},
     "output_type": "display_data"
    }
   ],
   "source": [
    "sns.boxplot(x='loan_status',y='loan_amnt',data=df)"
   ]
  },
  {
   "cell_type": "markdown",
   "id": "43032713-58f7-4c20-9ca9-e3616275d486",
   "metadata": {},
   "source": [
    "# we can see amount bit high for charged off loans\n",
    "# lets explore loan amount with fully paid and charged off"
   ]
  },
  {
   "cell_type": "code",
   "execution_count": 43,
   "id": "da97b10f-8785-45fd-8408-3bad14730f5a",
   "metadata": {},
   "outputs": [
    {
     "data": {
      "text/html": [
       "<div>\n",
       "<style scoped>\n",
       "    .dataframe tbody tr th:only-of-type {\n",
       "        vertical-align: middle;\n",
       "    }\n",
       "\n",
       "    .dataframe tbody tr th {\n",
       "        vertical-align: top;\n",
       "    }\n",
       "\n",
       "    .dataframe thead th {\n",
       "        text-align: right;\n",
       "    }\n",
       "</style>\n",
       "<table border=\"1\" class=\"dataframe\">\n",
       "  <thead>\n",
       "    <tr style=\"text-align: right;\">\n",
       "      <th></th>\n",
       "      <th>count</th>\n",
       "      <th>mean</th>\n",
       "      <th>std</th>\n",
       "      <th>min</th>\n",
       "      <th>25%</th>\n",
       "      <th>50%</th>\n",
       "      <th>75%</th>\n",
       "      <th>max</th>\n",
       "    </tr>\n",
       "    <tr>\n",
       "      <th>loan_status</th>\n",
       "      <th></th>\n",
       "      <th></th>\n",
       "      <th></th>\n",
       "      <th></th>\n",
       "      <th></th>\n",
       "      <th></th>\n",
       "      <th></th>\n",
       "      <th></th>\n",
       "    </tr>\n",
       "  </thead>\n",
       "  <tbody>\n",
       "    <tr>\n",
       "      <th>Charged Off</th>\n",
       "      <td>77673.0</td>\n",
       "      <td>15126.300967</td>\n",
       "      <td>8505.090557</td>\n",
       "      <td>1000.0</td>\n",
       "      <td>8525.0</td>\n",
       "      <td>14000.0</td>\n",
       "      <td>20000.0</td>\n",
       "      <td>40000.0</td>\n",
       "    </tr>\n",
       "    <tr>\n",
       "      <th>Fully Paid</th>\n",
       "      <td>318357.0</td>\n",
       "      <td>13866.878771</td>\n",
       "      <td>8302.319699</td>\n",
       "      <td>500.0</td>\n",
       "      <td>7500.0</td>\n",
       "      <td>12000.0</td>\n",
       "      <td>19225.0</td>\n",
       "      <td>40000.0</td>\n",
       "    </tr>\n",
       "  </tbody>\n",
       "</table>\n",
       "</div>"
      ],
      "text/plain": [
       "                count          mean          std     min     25%      50%  \\\n",
       "loan_status                                                                 \n",
       "Charged Off   77673.0  15126.300967  8505.090557  1000.0  8525.0  14000.0   \n",
       "Fully Paid   318357.0  13866.878771  8302.319699   500.0  7500.0  12000.0   \n",
       "\n",
       "                 75%      max  \n",
       "loan_status                    \n",
       "Charged Off  20000.0  40000.0  \n",
       "Fully Paid   19225.0  40000.0  "
      ]
     },
     "execution_count": 43,
     "metadata": {},
     "output_type": "execute_result"
    }
   ],
   "source": [
    "df.groupby('loan_status')['loan_amnt'].describe()"
   ]
  },
  {
   "cell_type": "code",
   "execution_count": 44,
   "id": "0ddf608d-33ad-4870-8105-09274c5089fd",
   "metadata": {},
   "outputs": [
    {
     "data": {
      "text/plain": [
       "Text(0.5, 1.0, 'installment vs loan ammount')"
      ]
     },
     "execution_count": 44,
     "metadata": {},
     "output_type": "execute_result"
    },
    {
     "data": {
      "image/png": "[encoded data removed]",
      "text/plain": [
       "<Figure size 640x480 with 1 Axes>"
      ]
     },
     "metadata": {},
     "output_type": "display_data"
    }
   ],
   "source": [
    "sns.scatterplot(x = \"installment\",y = \"loan_amnt\",data = df)\n",
    "plt.title(\"installment vs loan ammount\")"
   ]
  },
  {
   "cell_type": "code",
   "execution_count": 45,
   "id": "486e3c63-0be6-4d6a-9148-f877be6ceb65",
   "metadata": {},
   "outputs": [],
   "source": [
    "# its obvious that whenever ammount increase installment number increses"
   ]
  },
  {
   "cell_type": "code",
   "execution_count": 46,
   "id": "59504abf-1111-4577-bc0a-1649ab427017",
   "metadata": {},
   "outputs": [
    {
     "data": {
      "text/plain": [
       "array(['RENT', 'MORTGAGE', 'OWN', 'OTHER', 'NONE', 'ANY'], dtype=object)"
      ]
     },
     "execution_count": 46,
     "metadata": {},
     "output_type": "execute_result"
    }
   ],
   "source": [
    "df[\"home_ownership\"].unique()"
   ]
  },
  {
   "cell_type": "code",
   "execution_count": 47,
   "id": "cedfb6fc-f746-43d6-8160-1aab9abcb2d9",
   "metadata": {},
   "outputs": [],
   "source": [
    "# lets explore with target class"
   ]
  },
  {
   "cell_type": "code",
   "execution_count": 48,
   "id": "20a342a1-1645-4bfd-800a-9bd69d216d85",
   "metadata": {},
   "outputs": [
    {
     "data": {
      "text/plain": [
       "<Axes: xlabel='home_ownership', ylabel='count'>"
      ]
     },
     "execution_count": 48,
     "metadata": {},
     "output_type": "execute_result"
    },
    {
     "data": {
      "image/png": "[encoded data removed]",
      "text/plain": [
       "<Figure size 640x480 with 1 Axes>"
      ]
     },
     "metadata": {},
     "output_type": "display_data"
    }
   ],
   "source": [
    "sns.countplot(x = \"home_ownership\",data = df, hue = \"loan_status\")"
   ]
  },
  {
   "cell_type": "code",
   "execution_count": 49,
   "id": "fd85d52d-d970-4ed6-b45c-9d9dbaf42aa0",
   "metadata": {},
   "outputs": [
    {
     "data": {
      "text/plain": [
       "home_ownership\n",
       "MORTGAGE    198348\n",
       "RENT        159790\n",
       "OWN          37746\n",
       "OTHER          112\n",
       "NONE            31\n",
       "ANY              3\n",
       "Name: count, dtype: int64"
      ]
     },
     "execution_count": 49,
     "metadata": {},
     "output_type": "execute_result"
    }
   ],
   "source": [
    "df[\"home_ownership\"].value_counts()"
   ]
  },
  {
   "cell_type": "code",
   "execution_count": 50,
   "id": "1add82de-9e2a-487b-b6bf-c0699d12358e",
   "metadata": {},
   "outputs": [],
   "source": [
    "order_pass = sorted(df[\"grade\"].unique())"
   ]
  },
  {
   "cell_type": "code",
   "execution_count": 51,
   "id": "c8153944-38ec-49cd-bb56-0437246b0f37",
   "metadata": {},
   "outputs": [
    {
     "data": {
      "text/plain": [
       "<Axes: xlabel='grade', ylabel='count'>"
      ]
     },
     "execution_count": 51,
     "metadata": {},
     "output_type": "execute_result"
    },
    {
     "data": {
      "image/png": "[encoded data removed]",
      "text/plain": [
       "<Figure size 640x480 with 1 Axes>"
      ]
     },
     "metadata": {},
     "output_type": "display_data"
    }
   ],
   "source": [
    "sns.countplot(x = \"grade\",data = df,order =order_pass,hue = \"loan_status\")\n"
   ]
  },
  {
   "cell_type": "code",
   "execution_count": 52,
   "id": "f0bfb28d-96c4-43d9-918a-beec23b57e74",
   "metadata": {},
   "outputs": [
    {
     "data": {
      "text/plain": [
       "<Axes: xlabel='sub_grade', ylabel='count'>"
      ]
     },
     "execution_count": 52,
     "metadata": {},
     "output_type": "execute_result"
    },
    {
     "data": {
      "image/png": "[encoded data removed]",
      "text/plain": [
       "<Figure size 1000x600 with 1 Axes>"
      ]
     },
     "metadata": {},
     "output_type": "display_data"
    }
   ],
   "source": [
    "plt.figure(figsize = (10,6))\n",
    "order_pass = sorted(df[\"sub_grade\"].unique())\n",
    "sns.countplot(x = \"sub_grade\",data = df,order =order_pass,hue = \"loan_status\")"
   ]
  },
  {
   "cell_type": "code",
   "execution_count": 53,
   "id": "3565fffe-dce1-4851-907a-f9e494833890",
   "metadata": {},
   "outputs": [],
   "source": [
    "#lets convert our target class to numeric"
   ]
  },
  {
   "cell_type": "code",
   "execution_count": 54,
   "id": "ca7db735-089b-42c1-897b-7f689e9d64aa",
   "metadata": {},
   "outputs": [
    {
     "data": {
      "text/plain": [
       "loan_status\n",
       "Fully Paid     318357\n",
       "Charged Off     77673\n",
       "Name: count, dtype: int64"
      ]
     },
     "execution_count": 54,
     "metadata": {},
     "output_type": "execute_result"
    }
   ],
   "source": [
    "df[\"loan_status\"].value_counts()"
   ]
  },
  {
   "cell_type": "code",
   "execution_count": 55,
   "id": "85aacf87-c333-4e35-9191-75b5fd7971f4",
   "metadata": {},
   "outputs": [],
   "source": [
    "df[\"loan_repaid\"] = df[\"loan_status\"].map({\"Fully Paid\" :1,\"Charged Off\":0})"
   ]
  },
  {
   "cell_type": "code",
   "execution_count": 56,
   "id": "3a9bf816-b18d-4ce7-a41d-efd2646a04c2",
   "metadata": {},
   "outputs": [
    {
     "data": {
      "text/html": [
       "<div>\n",
       "<style scoped>\n",
       "    .dataframe tbody tr th:only-of-type {\n",
       "        vertical-align: middle;\n",
       "    }\n",
       "\n",
       "    .dataframe tbody tr th {\n",
       "        vertical-align: top;\n",
       "    }\n",
       "\n",
       "    .dataframe thead th {\n",
       "        text-align: right;\n",
       "    }\n",
       "</style>\n",
       "<table border=\"1\" class=\"dataframe\">\n",
       "  <thead>\n",
       "    <tr style=\"text-align: right;\">\n",
       "      <th></th>\n",
       "      <th>loan_repaid</th>\n",
       "      <th>loan_status</th>\n",
       "    </tr>\n",
       "  </thead>\n",
       "  <tbody>\n",
       "    <tr>\n",
       "      <th>0</th>\n",
       "      <td>1</td>\n",
       "      <td>Fully Paid</td>\n",
       "    </tr>\n",
       "    <tr>\n",
       "      <th>1</th>\n",
       "      <td>1</td>\n",
       "      <td>Fully Paid</td>\n",
       "    </tr>\n",
       "    <tr>\n",
       "      <th>2</th>\n",
       "      <td>1</td>\n",
       "      <td>Fully Paid</td>\n",
       "    </tr>\n",
       "    <tr>\n",
       "      <th>3</th>\n",
       "      <td>1</td>\n",
       "      <td>Fully Paid</td>\n",
       "    </tr>\n",
       "    <tr>\n",
       "      <th>4</th>\n",
       "      <td>0</td>\n",
       "      <td>Charged Off</td>\n",
       "    </tr>\n",
       "    <tr>\n",
       "      <th>...</th>\n",
       "      <td>...</td>\n",
       "      <td>...</td>\n",
       "    </tr>\n",
       "    <tr>\n",
       "      <th>396025</th>\n",
       "      <td>1</td>\n",
       "      <td>Fully Paid</td>\n",
       "    </tr>\n",
       "    <tr>\n",
       "      <th>396026</th>\n",
       "      <td>1</td>\n",
       "      <td>Fully Paid</td>\n",
       "    </tr>\n",
       "    <tr>\n",
       "      <th>396027</th>\n",
       "      <td>1</td>\n",
       "      <td>Fully Paid</td>\n",
       "    </tr>\n",
       "    <tr>\n",
       "      <th>396028</th>\n",
       "      <td>1</td>\n",
       "      <td>Fully Paid</td>\n",
       "    </tr>\n",
       "    <tr>\n",
       "      <th>396029</th>\n",
       "      <td>1</td>\n",
       "      <td>Fully Paid</td>\n",
       "    </tr>\n",
       "  </tbody>\n",
       "</table>\n",
       "<p>396030 rows × 2 columns</p>\n",
       "</div>"
      ],
      "text/plain": [
       "        loan_repaid  loan_status\n",
       "0                 1   Fully Paid\n",
       "1                 1   Fully Paid\n",
       "2                 1   Fully Paid\n",
       "3                 1   Fully Paid\n",
       "4                 0  Charged Off\n",
       "...             ...          ...\n",
       "396025            1   Fully Paid\n",
       "396026            1   Fully Paid\n",
       "396027            1   Fully Paid\n",
       "396028            1   Fully Paid\n",
       "396029            1   Fully Paid\n",
       "\n",
       "[396030 rows x 2 columns]"
      ]
     },
     "execution_count": 56,
     "metadata": {},
     "output_type": "execute_result"
    }
   ],
   "source": [
    "df[['loan_repaid','loan_status']]"
   ]
  },
  {
   "cell_type": "code",
   "execution_count": null,
   "id": "3db6c0a7-ece6-478a-8e2d-a400e2c2151b",
   "metadata": {},
   "outputs": [],
   "source": []
  },
  {
   "cell_type": "markdown",
   "id": "46555544-198c-4a73-8e17-4c36b9fa9c03",
   "metadata": {},
   "source": [
    "## Data Preprocessing"
   ]
  },
  {
   "cell_type": "markdown",
   "id": "15279aa5-4302-4917-b55b-a461eaef5d2b",
   "metadata": {},
   "source": [
    "# Missing Data\n",
    "\n",
    "**Let's explore this missing data columns. We use a variety of factors to \n",
    "decide whether or not they would be useful, to see if we should keep, discard, or fill in the missing data.**"
   ]
  },
  {
   "cell_type": "code",
   "execution_count": null,
   "id": "e80a80e0-d2a6-42cc-a5a0-c5afed83701d",
   "metadata": {},
   "outputs": [],
   "source": []
  },
  {
   "cell_type": "code",
   "execution_count": 57,
   "id": "efd26298-68b6-41e6-9611-f778374e3986",
   "metadata": {
    "scrolled": true
   },
   "outputs": [
    {
     "data": {
      "text/plain": [
       "<Axes: >"
      ]
     },
     "execution_count": 57,
     "metadata": {},
     "output_type": "execute_result"
    },
    {
     "data": {
      "image/png": "[encoded data removed]",
      "text/plain": [
       "<Figure size 1400x600 with 2 Axes>"
      ]
     },
     "metadata": {},
     "output_type": "display_data"
    }
   ],
   "source": [
    "plt.figure(figsize= (14,6))\n",
    "sns.heatmap(df.isnull())"
   ]
  },
  {
   "cell_type": "code",
   "execution_count": 58,
   "id": "df54eb67-f65e-49f2-9ffa-2e388f6e51b9",
   "metadata": {},
   "outputs": [
    {
     "data": {
      "text/plain": [
       "loan_amnt                   0\n",
       "term                        0\n",
       "int_rate                    0\n",
       "installment                 0\n",
       "grade                       0\n",
       "sub_grade                   0\n",
       "emp_title               22927\n",
       "emp_length              18301\n",
       "home_ownership              0\n",
       "annual_inc                  0\n",
       "verification_status         0\n",
       "issue_d                     0\n",
       "loan_status                 0\n",
       "purpose                     0\n",
       "title                    1756\n",
       "dti                         0\n",
       "earliest_cr_line            0\n",
       "open_acc                    0\n",
       "pub_rec                     0\n",
       "revol_bal                   0\n",
       "revol_util                276\n",
       "total_acc                   0\n",
       "initial_list_status         0\n",
       "application_type            0\n",
       "mort_acc                37795\n",
       "pub_rec_bankruptcies      535\n",
       "address                     0\n",
       "loan_repaid                 0\n",
       "dtype: int64"
      ]
     },
     "execution_count": 58,
     "metadata": {},
     "output_type": "execute_result"
    }
   ],
   "source": [
    "df.isnull().sum()"
   ]
  },
  {
   "cell_type": "code",
   "execution_count": 59,
   "id": "a1e4d0ad-67ba-4846-b79e-d1030f228868",
   "metadata": {},
   "outputs": [],
   "source": [
    "# as we already created numerical column \"loan_repaid\" we need to drop loan_status"
   ]
  },
  {
   "cell_type": "code",
   "execution_count": 60,
   "id": "61d36219-5c8e-40f4-ae38-9d66b1e32a88",
   "metadata": {
    "scrolled": true
   },
   "outputs": [],
   "source": [
    "df.drop(\"loan_status\",axis =1,inplace = True)"
   ]
  },
  {
   "cell_type": "code",
   "execution_count": 61,
   "id": "c2b55367-80eb-4ff1-8193-a9864cffd86f",
   "metadata": {},
   "outputs": [],
   "source": [
    "# How many unique employment job titles are there?"
   ]
  },
  {
   "cell_type": "code",
   "execution_count": 62,
   "id": "0ad7161a-25ad-4cc4-bd68-ec956636163c",
   "metadata": {
    "scrolled": true
   },
   "outputs": [
    {
     "data": {
      "text/plain": [
       "emp_title\n",
       "Teacher                         4389\n",
       "Manager                         4250\n",
       "Registered Nurse                1856\n",
       "RN                              1846\n",
       "Supervisor                      1830\n",
       "                                ... \n",
       "Social Work/Care Manager           1\n",
       "Regional Counsel                   1\n",
       "Nor-Com Inc                        1\n",
       "Director of the Bach Society       1\n",
       "SPO II                             1\n",
       "Name: count, Length: 173105, dtype: int64"
      ]
     },
     "execution_count": 62,
     "metadata": {},
     "output_type": "execute_result"
    }
   ],
   "source": [
    "df['emp_title'].value_counts()"
   ]
  },
  {
   "cell_type": "code",
   "execution_count": 63,
   "id": "dae9136c-d1e6-426c-a18c-c2511aae328e",
   "metadata": {},
   "outputs": [],
   "source": [
    "df.drop(\"emp_title\",axis =1, inplace = True)"
   ]
  },
  {
   "cell_type": "code",
   "execution_count": 64,
   "id": "bba3221f-92e3-4d13-9173-f83dd91c228c",
   "metadata": {},
   "outputs": [],
   "source": [
    "# 173105 different nos. of title, practically its not useful to convert them into dumy variable"
   ]
  },
  {
   "cell_type": "code",
   "execution_count": 66,
   "id": "de7bc917-e599-4bf7-8c29-840bbf8383a5",
   "metadata": {
    "scrolled": true
   },
   "outputs": [
    {
     "data": {
      "text/html": [
       "<div>\n",
       "<style scoped>\n",
       "    .dataframe tbody tr th:only-of-type {\n",
       "        vertical-align: middle;\n",
       "    }\n",
       "\n",
       "    .dataframe tbody tr th {\n",
       "        vertical-align: top;\n",
       "    }\n",
       "\n",
       "    .dataframe thead th {\n",
       "        text-align: right;\n",
       "    }\n",
       "</style>\n",
       "<table border=\"1\" class=\"dataframe\">\n",
       "  <thead>\n",
       "    <tr style=\"text-align: right;\">\n",
       "      <th></th>\n",
       "      <th>loan_amnt</th>\n",
       "      <th>term</th>\n",
       "      <th>int_rate</th>\n",
       "      <th>installment</th>\n",
       "      <th>grade</th>\n",
       "      <th>sub_grade</th>\n",
       "      <th>emp_length</th>\n",
       "      <th>home_ownership</th>\n",
       "      <th>annual_inc</th>\n",
       "      <th>verification_status</th>\n",
       "      <th>...</th>\n",
       "      <th>pub_rec</th>\n",
       "      <th>revol_bal</th>\n",
       "      <th>revol_util</th>\n",
       "      <th>total_acc</th>\n",
       "      <th>initial_list_status</th>\n",
       "      <th>application_type</th>\n",
       "      <th>mort_acc</th>\n",
       "      <th>pub_rec_bankruptcies</th>\n",
       "      <th>address</th>\n",
       "      <th>loan_repaid</th>\n",
       "    </tr>\n",
       "  </thead>\n",
       "  <tbody>\n",
       "    <tr>\n",
       "      <th>0</th>\n",
       "      <td>10000.0</td>\n",
       "      <td>36 months</td>\n",
       "      <td>11.44</td>\n",
       "      <td>329.48</td>\n",
       "      <td>B</td>\n",
       "      <td>B4</td>\n",
       "      <td>10+ years</td>\n",
       "      <td>RENT</td>\n",
       "      <td>117000.0</td>\n",
       "      <td>Not Verified</td>\n",
       "      <td>...</td>\n",
       "      <td>0.0</td>\n",
       "      <td>36369.0</td>\n",
       "      <td>41.8</td>\n",
       "      <td>25.0</td>\n",
       "      <td>w</td>\n",
       "      <td>INDIVIDUAL</td>\n",
       "      <td>0.0</td>\n",
       "      <td>0.0</td>\n",
       "      <td>0174 Michelle Gateway\\nMendozaberg, OK 22690</td>\n",
       "      <td>1</td>\n",
       "    </tr>\n",
       "    <tr>\n",
       "      <th>1</th>\n",
       "      <td>8000.0</td>\n",
       "      <td>36 months</td>\n",
       "      <td>11.99</td>\n",
       "      <td>265.68</td>\n",
       "      <td>B</td>\n",
       "      <td>B5</td>\n",
       "      <td>4 years</td>\n",
       "      <td>MORTGAGE</td>\n",
       "      <td>65000.0</td>\n",
       "      <td>Not Verified</td>\n",
       "      <td>...</td>\n",
       "      <td>0.0</td>\n",
       "      <td>20131.0</td>\n",
       "      <td>53.3</td>\n",
       "      <td>27.0</td>\n",
       "      <td>f</td>\n",
       "      <td>INDIVIDUAL</td>\n",
       "      <td>3.0</td>\n",
       "      <td>0.0</td>\n",
       "      <td>1076 Carney Fort Apt. 347\\nLoganmouth, SD 05113</td>\n",
       "      <td>1</td>\n",
       "    </tr>\n",
       "    <tr>\n",
       "      <th>2</th>\n",
       "      <td>15600.0</td>\n",
       "      <td>36 months</td>\n",
       "      <td>10.49</td>\n",
       "      <td>506.97</td>\n",
       "      <td>B</td>\n",
       "      <td>B3</td>\n",
       "      <td>&lt; 1 year</td>\n",
       "      <td>RENT</td>\n",
       "      <td>43057.0</td>\n",
       "      <td>Source Verified</td>\n",
       "      <td>...</td>\n",
       "      <td>0.0</td>\n",
       "      <td>11987.0</td>\n",
       "      <td>92.2</td>\n",
       "      <td>26.0</td>\n",
       "      <td>f</td>\n",
       "      <td>INDIVIDUAL</td>\n",
       "      <td>0.0</td>\n",
       "      <td>0.0</td>\n",
       "      <td>87025 Mark Dale Apt. 269\\nNew Sabrina, WV 05113</td>\n",
       "      <td>1</td>\n",
       "    </tr>\n",
       "    <tr>\n",
       "      <th>3</th>\n",
       "      <td>7200.0</td>\n",
       "      <td>36 months</td>\n",
       "      <td>6.49</td>\n",
       "      <td>220.65</td>\n",
       "      <td>A</td>\n",
       "      <td>A2</td>\n",
       "      <td>6 years</td>\n",
       "      <td>RENT</td>\n",
       "      <td>54000.0</td>\n",
       "      <td>Not Verified</td>\n",
       "      <td>...</td>\n",
       "      <td>0.0</td>\n",
       "      <td>5472.0</td>\n",
       "      <td>21.5</td>\n",
       "      <td>13.0</td>\n",
       "      <td>f</td>\n",
       "      <td>INDIVIDUAL</td>\n",
       "      <td>0.0</td>\n",
       "      <td>0.0</td>\n",
       "      <td>823 Reid Ford\\nDelacruzside, MA 00813</td>\n",
       "      <td>1</td>\n",
       "    </tr>\n",
       "    <tr>\n",
       "      <th>4</th>\n",
       "      <td>24375.0</td>\n",
       "      <td>60 months</td>\n",
       "      <td>17.27</td>\n",
       "      <td>609.33</td>\n",
       "      <td>C</td>\n",
       "      <td>C5</td>\n",
       "      <td>9 years</td>\n",
       "      <td>MORTGAGE</td>\n",
       "      <td>55000.0</td>\n",
       "      <td>Verified</td>\n",
       "      <td>...</td>\n",
       "      <td>0.0</td>\n",
       "      <td>24584.0</td>\n",
       "      <td>69.8</td>\n",
       "      <td>43.0</td>\n",
       "      <td>f</td>\n",
       "      <td>INDIVIDUAL</td>\n",
       "      <td>1.0</td>\n",
       "      <td>0.0</td>\n",
       "      <td>679 Luna Roads\\nGreggshire, VA 11650</td>\n",
       "      <td>0</td>\n",
       "    </tr>\n",
       "  </tbody>\n",
       "</table>\n",
       "<p>5 rows × 26 columns</p>\n",
       "</div>"
      ],
      "text/plain": [
       "   loan_amnt        term  int_rate  installment grade sub_grade emp_length  \\\n",
       "0    10000.0   36 months     11.44       329.48     B        B4  10+ years   \n",
       "1     8000.0   36 months     11.99       265.68     B        B5    4 years   \n",
       "2    15600.0   36 months     10.49       506.97     B        B3   < 1 year   \n",
       "3     7200.0   36 months      6.49       220.65     A        A2    6 years   \n",
       "4    24375.0   60 months     17.27       609.33     C        C5    9 years   \n",
       "\n",
       "  home_ownership  annual_inc verification_status  ... pub_rec revol_bal  \\\n",
       "0           RENT    117000.0        Not Verified  ...     0.0   36369.0   \n",
       "1       MORTGAGE     65000.0        Not Verified  ...     0.0   20131.0   \n",
       "2           RENT     43057.0     Source Verified  ...     0.0   11987.0   \n",
       "3           RENT     54000.0        Not Verified  ...     0.0    5472.0   \n",
       "4       MORTGAGE     55000.0            Verified  ...     0.0   24584.0   \n",
       "\n",
       "  revol_util  total_acc initial_list_status  application_type  mort_acc  \\\n",
       "0       41.8       25.0                   w        INDIVIDUAL       0.0   \n",
       "1       53.3       27.0                   f        INDIVIDUAL       3.0   \n",
       "2       92.2       26.0                   f        INDIVIDUAL       0.0   \n",
       "3       21.5       13.0                   f        INDIVIDUAL       0.0   \n",
       "4       69.8       43.0                   f        INDIVIDUAL       1.0   \n",
       "\n",
       "   pub_rec_bankruptcies                                          address  \\\n",
       "0                   0.0     0174 Michelle Gateway\\nMendozaberg, OK 22690   \n",
       "1                   0.0  1076 Carney Fort Apt. 347\\nLoganmouth, SD 05113   \n",
       "2                   0.0  87025 Mark Dale Apt. 269\\nNew Sabrina, WV 05113   \n",
       "3                   0.0            823 Reid Ford\\nDelacruzside, MA 00813   \n",
       "4                   0.0             679 Luna Roads\\nGreggshire, VA 11650   \n",
       "\n",
       "   loan_repaid  \n",
       "0            1  \n",
       "1            1  \n",
       "2            1  \n",
       "3            1  \n",
       "4            0  \n",
       "\n",
       "[5 rows x 26 columns]"
      ]
     },
     "execution_count": 66,
     "metadata": {},
     "output_type": "execute_result"
    }
   ],
   "source": [
    "df.head()"
   ]
  },
  {
   "cell_type": "code",
   "execution_count": 67,
   "id": "cc019b79-4fdd-4f63-b310-7de724237763",
   "metadata": {},
   "outputs": [
    {
     "data": {
      "text/plain": [
       "array(['10+ years', '4 years', '< 1 year', '6 years', '9 years',\n",
       "       '2 years', '3 years', '8 years', '7 years', '5 years', '1 year',\n",
       "       nan], dtype=object)"
      ]
     },
     "execution_count": 67,
     "metadata": {},
     "output_type": "execute_result"
    }
   ],
   "source": [
    "df[\"emp_length\"].unique()"
   ]
  },
  {
   "cell_type": "code",
   "execution_count": 68,
   "id": "ce99d472-786b-43e7-a403-7fdb86cff008",
   "metadata": {},
   "outputs": [],
   "source": [
    "df[\"emp_length\"] = df[\"emp_length\"].map({\"< 1 year\" : 0.5,\"1 year\":1,'2 years':2, '3 years':3,\"4 years\":4,\"5 years\":5,\"6 years\":6,\"7 years\":7,\"8 years\":8,\"9 years\":9,\n",
    "\"10+ years\":10.5})"
   ]
  },
  {
   "cell_type": "code",
   "execution_count": 69,
   "id": "3826ffb3-3a7a-4331-882d-c16b8c854f85",
   "metadata": {
    "scrolled": true
   },
   "outputs": [
    {
     "data": {
      "text/plain": [
       "emp_length\n",
       "10.5    126041\n",
       "2.0      35827\n",
       "0.5      31725\n",
       "3.0      31665\n",
       "5.0      26495\n",
       "1.0      25882\n",
       "4.0      23952\n",
       "6.0      20841\n",
       "7.0      20819\n",
       "8.0      19168\n",
       "9.0      15314\n",
       "Name: count, dtype: int64"
      ]
     },
     "execution_count": 69,
     "metadata": {},
     "output_type": "execute_result"
    }
   ],
   "source": [
    "df[\"emp_length\"].value_counts()"
   ]
  },
  {
   "cell_type": "code",
   "execution_count": 70,
   "id": "d3ae8392-d189-4397-8962-8d17522b1409",
   "metadata": {},
   "outputs": [
    {
     "data": {
      "text/plain": [
       "396030"
      ]
     },
     "execution_count": 70,
     "metadata": {},
     "output_type": "execute_result"
    }
   ],
   "source": [
    "len(df)"
   ]
  },
  {
   "cell_type": "code",
   "execution_count": 71,
   "id": "fb2f7324-7d51-40db-a788-db8b5992ad55",
   "metadata": {},
   "outputs": [],
   "source": [
    "# lets check 18301 nan value in emp_length, as minor class count is less, lets check how many nan are in charged off"
   ]
  },
  {
   "cell_type": "code",
   "execution_count": 72,
   "id": "511471bc-9a2f-4ed7-abb3-c7ecd88d769d",
   "metadata": {},
   "outputs": [
    {
     "data": {
      "text/plain": [
       "np.int64(5038)"
      ]
     },
     "execution_count": 72,
     "metadata": {},
     "output_type": "execute_result"
    }
   ],
   "source": [
    "# Count NaN in emp_length for loan_repaid=0\n",
    "df[df['loan_repaid'] == 0]['emp_length'].isna().sum()"
   ]
  },
  {
   "cell_type": "code",
   "execution_count": 73,
   "id": "4a48cfe5-95cb-4dcc-9c2d-c9f06847048f",
   "metadata": {},
   "outputs": [],
   "source": [
    "# lets not drop the na , as almost 6.5% are charged off"
   ]
  },
  {
   "cell_type": "code",
   "execution_count": 74,
   "id": "ab09ad71-d675-4a55-a927-c3c6e444507f",
   "metadata": {},
   "outputs": [],
   "source": [
    "df[\"emp_length\"] = df[\"emp_length\"].fillna(df[\"emp_length\"].median())"
   ]
  },
  {
   "cell_type": "code",
   "execution_count": 75,
   "id": "cd80d617-7f82-4b66-953b-0b1344bf9324",
   "metadata": {},
   "outputs": [
    {
     "data": {
      "text/plain": [
       "loan_amnt                   0\n",
       "term                        0\n",
       "int_rate                    0\n",
       "installment                 0\n",
       "grade                       0\n",
       "sub_grade                   0\n",
       "emp_length                  0\n",
       "home_ownership              0\n",
       "annual_inc                  0\n",
       "verification_status         0\n",
       "issue_d                     0\n",
       "purpose                     0\n",
       "title                    1756\n",
       "dti                         0\n",
       "earliest_cr_line            0\n",
       "open_acc                    0\n",
       "pub_rec                     0\n",
       "revol_bal                   0\n",
       "revol_util                276\n",
       "total_acc                   0\n",
       "initial_list_status         0\n",
       "application_type            0\n",
       "mort_acc                37795\n",
       "pub_rec_bankruptcies      535\n",
       "address                     0\n",
       "loan_repaid                 0\n",
       "dtype: int64"
      ]
     },
     "execution_count": 75,
     "metadata": {},
     "output_type": "execute_result"
    }
   ],
   "source": [
    "df.isnull().sum()"
   ]
  },
  {
   "cell_type": "code",
   "execution_count": 76,
   "id": "dca2659a-f7f2-49d0-80cb-39641596a377",
   "metadata": {},
   "outputs": [
    {
     "data": {
      "text/plain": [
       "array(['Vacation', 'Debt consolidation', 'Credit card refinancing', ...,\n",
       "       'Credit buster ', 'Loanforpayoff', 'Toxic Debt Payoff'],\n",
       "      dtype=object)"
      ]
     },
     "execution_count": 76,
     "metadata": {},
     "output_type": "execute_result"
    }
   ],
   "source": [
    "df[\"title\"].unique()"
   ]
  },
  {
   "cell_type": "code",
   "execution_count": 77,
   "id": "ccc8cbb9-7d02-4906-8f61-7edebbbafd75",
   "metadata": {},
   "outputs": [
    {
     "data": {
      "text/plain": [
       "title\n",
       "Debt consolidation                       152472\n",
       "Credit card refinancing                   51487\n",
       "Home improvement                          15264\n",
       "Other                                     12930\n",
       "Debt Consolidation                        11608\n",
       "                                          ...  \n",
       "Outboard Motor Repower Loan                   1\n",
       "2011 Insurance and Debt Consolidation         1\n",
       "Credit buster                                 1\n",
       "Loanforpayoff                                 1\n",
       "Toxic Debt Payoff                             1\n",
       "Name: count, Length: 48816, dtype: int64"
      ]
     },
     "execution_count": 77,
     "metadata": {},
     "output_type": "execute_result"
    }
   ],
   "source": [
    "df[\"title\"].value_counts()"
   ]
  },
  {
   "cell_type": "code",
   "execution_count": 78,
   "id": "45360565-579e-443d-8a5b-7d4617d3b3b4",
   "metadata": {},
   "outputs": [
    {
     "ename": "SyntaxError",
     "evalue": "invalid syntax. Perhaps you forgot a comma? (1484976416.py, line 1)",
     "output_type": "error",
     "traceback": [
      "\u001b[1;36m  Cell \u001b[1;32mIn[78], line 1\u001b[1;36m\u001b[0m\n\u001b[1;33m    lets drop this\u001b[0m\n\u001b[1;37m         ^\u001b[0m\n\u001b[1;31mSyntaxError\u001b[0m\u001b[1;31m:\u001b[0m invalid syntax. Perhaps you forgot a comma?\n"
     ]
    }
   ],
   "source": [
    "#lets drop this"
   ]
  },
  {
   "cell_type": "code",
   "execution_count": 79,
   "id": "d697d457-f7d3-4659-805d-deacd63ab3f1",
   "metadata": {},
   "outputs": [],
   "source": [
    "df.drop(\"title\",axis =1 , inplace = True)"
   ]
  },
  {
   "cell_type": "code",
   "execution_count": 80,
   "id": "16ca327f-5ec6-4369-9b06-e5425caf1983",
   "metadata": {},
   "outputs": [
    {
     "data": {
      "text/plain": [
       "loan_amnt                   0\n",
       "term                        0\n",
       "int_rate                    0\n",
       "installment                 0\n",
       "grade                       0\n",
       "sub_grade                   0\n",
       "emp_length                  0\n",
       "home_ownership              0\n",
       "annual_inc                  0\n",
       "verification_status         0\n",
       "issue_d                     0\n",
       "purpose                     0\n",
       "dti                         0\n",
       "earliest_cr_line            0\n",
       "open_acc                    0\n",
       "pub_rec                     0\n",
       "revol_bal                   0\n",
       "revol_util                276\n",
       "total_acc                   0\n",
       "initial_list_status         0\n",
       "application_type            0\n",
       "mort_acc                37795\n",
       "pub_rec_bankruptcies      535\n",
       "address                     0\n",
       "loan_repaid                 0\n",
       "dtype: int64"
      ]
     },
     "execution_count": 80,
     "metadata": {},
     "output_type": "execute_result"
    }
   ],
   "source": [
    "df.isnull().sum()"
   ]
  },
  {
   "cell_type": "code",
   "execution_count": 81,
   "id": "59fa9652-c7e8-4fcc-9b53-c69cb200b171",
   "metadata": {},
   "outputs": [
    {
     "data": {
      "text/plain": [
       "count    395754.000000\n",
       "mean         53.791749\n",
       "std          24.452193\n",
       "min           0.000000\n",
       "25%          35.800000\n",
       "50%          54.800000\n",
       "75%          72.900000\n",
       "max         892.300000\n",
       "Name: revol_util, dtype: float64"
      ]
     },
     "execution_count": 81,
     "metadata": {},
     "output_type": "execute_result"
    }
   ],
   "source": [
    "df[\"revol_util\"].describe()"
   ]
  },
  {
   "cell_type": "code",
   "execution_count": 82,
   "id": "2a3f7828-e27c-49ee-8a67-61aab40d60cc",
   "metadata": {},
   "outputs": [],
   "source": [
    "df[\"revol_util\"] = df[\"revol_util\"].fillna(df[\"revol_util\"].median())"
   ]
  },
  {
   "cell_type": "code",
   "execution_count": 83,
   "id": "b4ba703e-1e25-486f-a50a-1a47463d2619",
   "metadata": {},
   "outputs": [
    {
     "data": {
      "text/plain": [
       "loan_amnt                   0\n",
       "term                        0\n",
       "int_rate                    0\n",
       "installment                 0\n",
       "grade                       0\n",
       "sub_grade                   0\n",
       "emp_length                  0\n",
       "home_ownership              0\n",
       "annual_inc                  0\n",
       "verification_status         0\n",
       "issue_d                     0\n",
       "purpose                     0\n",
       "dti                         0\n",
       "earliest_cr_line            0\n",
       "open_acc                    0\n",
       "pub_rec                     0\n",
       "revol_bal                   0\n",
       "revol_util                  0\n",
       "total_acc                   0\n",
       "initial_list_status         0\n",
       "application_type            0\n",
       "mort_acc                37795\n",
       "pub_rec_bankruptcies      535\n",
       "address                     0\n",
       "loan_repaid                 0\n",
       "dtype: int64"
      ]
     },
     "execution_count": 83,
     "metadata": {},
     "output_type": "execute_result"
    }
   ],
   "source": [
    "df.isnull().sum()"
   ]
  },
  {
   "cell_type": "code",
   "execution_count": 84,
   "id": "6d14aa39-26d6-4a6f-b1e6-cb2ab2ba153f",
   "metadata": {},
   "outputs": [
    {
     "data": {
      "text/plain": [
       "[np.float64(0.0),\n",
       " np.float64(1.0),\n",
       " np.float64(2.0),\n",
       " np.float64(3.0),\n",
       " np.float64(4.0),\n",
       " np.float64(5.0),\n",
       " np.float64(6.0),\n",
       " np.float64(nan),\n",
       " np.float64(7.0),\n",
       " np.float64(8.0),\n",
       " np.float64(9.0),\n",
       " np.float64(10.0),\n",
       " np.float64(11.0),\n",
       " np.float64(12.0),\n",
       " np.float64(13.0),\n",
       " np.float64(14.0),\n",
       " np.float64(15.0),\n",
       " np.float64(16.0),\n",
       " np.float64(17.0),\n",
       " np.float64(18.0),\n",
       " np.float64(19.0),\n",
       " np.float64(20.0),\n",
       " np.float64(21.0),\n",
       " np.float64(22.0),\n",
       " np.float64(23.0),\n",
       " np.float64(24.0),\n",
       " np.float64(25.0),\n",
       " np.float64(26.0),\n",
       " np.float64(27.0),\n",
       " np.float64(28.0),\n",
       " np.float64(30.0),\n",
       " np.float64(31.0),\n",
       " np.float64(32.0),\n",
       " np.float64(34.0)]"
      ]
     },
     "execution_count": 84,
     "metadata": {},
     "output_type": "execute_result"
    }
   ],
   "source": [
    "sorted(df[\"mort_acc\"].unique())"
   ]
  },
  {
   "cell_type": "code",
   "execution_count": 85,
   "id": "c7459de0-55f4-44e8-b62b-54c9767f73c6",
   "metadata": {},
   "outputs": [
    {
     "data": {
      "text/plain": [
       "np.int64(5550)"
      ]
     },
     "execution_count": 85,
     "metadata": {},
     "output_type": "execute_result"
    }
   ],
   "source": [
    "# Count NaN in emp_length for loan_repaid=0\n",
    "df[df['loan_repaid'] == 0]['mort_acc'].isna().sum()"
   ]
  },
  {
   "cell_type": "code",
   "execution_count": 86,
   "id": "8238befc-7644-4e61-9782-cec778e2b5a2",
   "metadata": {},
   "outputs": [],
   "source": [
    "df[\"mort_acc\"] = df[\"mort_acc\"].fillna(df[\"mort_acc\"].median())"
   ]
  },
  {
   "cell_type": "code",
   "execution_count": 87,
   "id": "195a08e2-931a-494e-9443-00278e74f8dc",
   "metadata": {},
   "outputs": [
    {
     "data": {
      "text/plain": [
       "loan_amnt                 0\n",
       "term                      0\n",
       "int_rate                  0\n",
       "installment               0\n",
       "grade                     0\n",
       "sub_grade                 0\n",
       "emp_length                0\n",
       "home_ownership            0\n",
       "annual_inc                0\n",
       "verification_status       0\n",
       "issue_d                   0\n",
       "purpose                   0\n",
       "dti                       0\n",
       "earliest_cr_line          0\n",
       "open_acc                  0\n",
       "pub_rec                   0\n",
       "revol_bal                 0\n",
       "revol_util                0\n",
       "total_acc                 0\n",
       "initial_list_status       0\n",
       "application_type          0\n",
       "mort_acc                  0\n",
       "pub_rec_bankruptcies    535\n",
       "address                   0\n",
       "loan_repaid               0\n",
       "dtype: int64"
      ]
     },
     "execution_count": 87,
     "metadata": {},
     "output_type": "execute_result"
    }
   ],
   "source": [
    "df.isnull().sum()"
   ]
  },
  {
   "cell_type": "code",
   "execution_count": 88,
   "id": "bf64bc03-ef7f-4d10-9992-69da9eebd2ae",
   "metadata": {
    "scrolled": true
   },
   "outputs": [
    {
     "data": {
      "text/plain": [
       "np.int64(87)"
      ]
     },
     "execution_count": 88,
     "metadata": {},
     "output_type": "execute_result"
    }
   ],
   "source": [
    "# Count NaN in emp_length for loan_repaid=0\n",
    "df[df['loan_repaid'] == 0]['pub_rec_bankruptcies'].isna().sum()"
   ]
  },
  {
   "cell_type": "code",
   "execution_count": 89,
   "id": "6528ddb8-ac6d-44b3-8659-8da497c214d5",
   "metadata": {},
   "outputs": [
    {
     "data": {
      "text/plain": [
       "revol_bal              -0.124532\n",
       "loan_amnt              -0.106539\n",
       "installment            -0.098628\n",
       "revol_util             -0.086753\n",
       "annual_inc             -0.050162\n",
       "open_acc               -0.027732\n",
       "dti                    -0.014558\n",
       "loan_repaid            -0.009383\n",
       "mort_acc                0.035089\n",
       "emp_length              0.036594\n",
       "total_acc               0.042035\n",
       "int_rate                0.057450\n",
       "pub_rec                 0.699408\n",
       "pub_rec_bankruptcies    1.000000\n",
       "Name: pub_rec_bankruptcies, dtype: float64"
      ]
     },
     "execution_count": 89,
     "metadata": {},
     "output_type": "execute_result"
    }
   ],
   "source": [
    "df.select_dtypes(include = \"number\").corr()[\"pub_rec_bankruptcies\"].sort_values()"
   ]
  },
  {
   "cell_type": "code",
   "execution_count": 90,
   "id": "52df19c3-7f7c-48fb-a090-e2ab03b7cd28",
   "metadata": {},
   "outputs": [
    {
     "data": {
      "text/html": [
       "<div>\n",
       "<style scoped>\n",
       "    .dataframe tbody tr th:only-of-type {\n",
       "        vertical-align: middle;\n",
       "    }\n",
       "\n",
       "    .dataframe tbody tr th {\n",
       "        vertical-align: top;\n",
       "    }\n",
       "\n",
       "    .dataframe thead th {\n",
       "        text-align: right;\n",
       "    }\n",
       "</style>\n",
       "<table border=\"1\" class=\"dataframe\">\n",
       "  <thead>\n",
       "    <tr style=\"text-align: right;\">\n",
       "      <th></th>\n",
       "      <th>pub_rec</th>\n",
       "      <th>pub_rec_bankruptcies</th>\n",
       "    </tr>\n",
       "  </thead>\n",
       "  <tbody>\n",
       "    <tr>\n",
       "      <th>0</th>\n",
       "      <td>0.0</td>\n",
       "      <td>0.0</td>\n",
       "    </tr>\n",
       "    <tr>\n",
       "      <th>1</th>\n",
       "      <td>0.0</td>\n",
       "      <td>0.0</td>\n",
       "    </tr>\n",
       "    <tr>\n",
       "      <th>2</th>\n",
       "      <td>0.0</td>\n",
       "      <td>0.0</td>\n",
       "    </tr>\n",
       "    <tr>\n",
       "      <th>3</th>\n",
       "      <td>0.0</td>\n",
       "      <td>0.0</td>\n",
       "    </tr>\n",
       "    <tr>\n",
       "      <th>4</th>\n",
       "      <td>0.0</td>\n",
       "      <td>0.0</td>\n",
       "    </tr>\n",
       "    <tr>\n",
       "      <th>5</th>\n",
       "      <td>0.0</td>\n",
       "      <td>0.0</td>\n",
       "    </tr>\n",
       "    <tr>\n",
       "      <th>6</th>\n",
       "      <td>0.0</td>\n",
       "      <td>0.0</td>\n",
       "    </tr>\n",
       "    <tr>\n",
       "      <th>7</th>\n",
       "      <td>0.0</td>\n",
       "      <td>0.0</td>\n",
       "    </tr>\n",
       "    <tr>\n",
       "      <th>8</th>\n",
       "      <td>0.0</td>\n",
       "      <td>0.0</td>\n",
       "    </tr>\n",
       "    <tr>\n",
       "      <th>9</th>\n",
       "      <td>0.0</td>\n",
       "      <td>0.0</td>\n",
       "    </tr>\n",
       "    <tr>\n",
       "      <th>10</th>\n",
       "      <td>1.0</td>\n",
       "      <td>1.0</td>\n",
       "    </tr>\n",
       "    <tr>\n",
       "      <th>11</th>\n",
       "      <td>0.0</td>\n",
       "      <td>0.0</td>\n",
       "    </tr>\n",
       "    <tr>\n",
       "      <th>12</th>\n",
       "      <td>0.0</td>\n",
       "      <td>0.0</td>\n",
       "    </tr>\n",
       "    <tr>\n",
       "      <th>13</th>\n",
       "      <td>0.0</td>\n",
       "      <td>0.0</td>\n",
       "    </tr>\n",
       "    <tr>\n",
       "      <th>14</th>\n",
       "      <td>0.0</td>\n",
       "      <td>0.0</td>\n",
       "    </tr>\n",
       "    <tr>\n",
       "      <th>15</th>\n",
       "      <td>0.0</td>\n",
       "      <td>0.0</td>\n",
       "    </tr>\n",
       "    <tr>\n",
       "      <th>16</th>\n",
       "      <td>0.0</td>\n",
       "      <td>0.0</td>\n",
       "    </tr>\n",
       "    <tr>\n",
       "      <th>17</th>\n",
       "      <td>1.0</td>\n",
       "      <td>1.0</td>\n",
       "    </tr>\n",
       "    <tr>\n",
       "      <th>18</th>\n",
       "      <td>0.0</td>\n",
       "      <td>0.0</td>\n",
       "    </tr>\n",
       "    <tr>\n",
       "      <th>19</th>\n",
       "      <td>0.0</td>\n",
       "      <td>0.0</td>\n",
       "    </tr>\n",
       "  </tbody>\n",
       "</table>\n",
       "</div>"
      ],
      "text/plain": [
       "    pub_rec  pub_rec_bankruptcies\n",
       "0       0.0                   0.0\n",
       "1       0.0                   0.0\n",
       "2       0.0                   0.0\n",
       "3       0.0                   0.0\n",
       "4       0.0                   0.0\n",
       "5       0.0                   0.0\n",
       "6       0.0                   0.0\n",
       "7       0.0                   0.0\n",
       "8       0.0                   0.0\n",
       "9       0.0                   0.0\n",
       "10      1.0                   1.0\n",
       "11      0.0                   0.0\n",
       "12      0.0                   0.0\n",
       "13      0.0                   0.0\n",
       "14      0.0                   0.0\n",
       "15      0.0                   0.0\n",
       "16      0.0                   0.0\n",
       "17      1.0                   1.0\n",
       "18      0.0                   0.0\n",
       "19      0.0                   0.0"
      ]
     },
     "execution_count": 90,
     "metadata": {},
     "output_type": "execute_result"
    }
   ],
   "source": [
    "df[[\"pub_rec\",\"pub_rec_bankruptcies\"]].head(20)"
   ]
  },
  {
   "cell_type": "code",
   "execution_count": 91,
   "id": "f40d5d5d-0a57-4cf5-be06-c2cb4620342f",
   "metadata": {},
   "outputs": [
    {
     "name": "stdout",
     "output_type": "stream",
     "text": [
      "Rows where pub_rec equals pub_rec_bankruptcies: 380095\n"
     ]
    }
   ],
   "source": [
    "same_value_count = (df['pub_rec'] == df['pub_rec_bankruptcies']).sum()\n",
    "print(f\"Rows where pub_rec equals pub_rec_bankruptcies: {same_value_count}\")"
   ]
  },
  {
   "cell_type": "code",
   "execution_count": 92,
   "id": "72bfb77b-79aa-43cb-82f8-6b5846df3978",
   "metadata": {},
   "outputs": [],
   "source": [
    "# as the c\n",
    "df['pub_rec_bankruptcies'] = df['pub_rec_bankruptcies'].fillna(df['pub_rec'])"
   ]
  },
  {
   "cell_type": "code",
   "execution_count": 93,
   "id": "b26f0c61-86ed-4f29-8640-f351ad43e479",
   "metadata": {},
   "outputs": [
    {
     "data": {
      "text/plain": [
       "loan_amnt               0\n",
       "term                    0\n",
       "int_rate                0\n",
       "installment             0\n",
       "grade                   0\n",
       "sub_grade               0\n",
       "emp_length              0\n",
       "home_ownership          0\n",
       "annual_inc              0\n",
       "verification_status     0\n",
       "issue_d                 0\n",
       "purpose                 0\n",
       "dti                     0\n",
       "earliest_cr_line        0\n",
       "open_acc                0\n",
       "pub_rec                 0\n",
       "revol_bal               0\n",
       "revol_util              0\n",
       "total_acc               0\n",
       "initial_list_status     0\n",
       "application_type        0\n",
       "mort_acc                0\n",
       "pub_rec_bankruptcies    0\n",
       "address                 0\n",
       "loan_repaid             0\n",
       "dtype: int64"
      ]
     },
     "execution_count": 93,
     "metadata": {},
     "output_type": "execute_result"
    }
   ],
   "source": [
    "df.isnull().sum()"
   ]
  },
  {
   "cell_type": "markdown",
   "id": "2724537d-7e75-4a72-ba76-96459f2fcbd2",
   "metadata": {},
   "source": [
    "## My Df is free of Nan Value Now"
   ]
  },
  {
   "cell_type": "code",
   "execution_count": 94,
   "id": "76697212-3024-4a53-b1a8-292622aa1867",
   "metadata": {},
   "outputs": [],
   "source": [
    "# Lets do dummy variable setup"
   ]
  },
  {
   "cell_type": "code",
   "execution_count": 95,
   "id": "d84d6fce-f2b5-4c55-9843-4cc2cc908693",
   "metadata": {},
   "outputs": [
    {
     "data": {
      "text/html": [
       "<div>\n",
       "<style scoped>\n",
       "    .dataframe tbody tr th:only-of-type {\n",
       "        vertical-align: middle;\n",
       "    }\n",
       "\n",
       "    .dataframe tbody tr th {\n",
       "        vertical-align: top;\n",
       "    }\n",
       "\n",
       "    .dataframe thead th {\n",
       "        text-align: right;\n",
       "    }\n",
       "</style>\n",
       "<table border=\"1\" class=\"dataframe\">\n",
       "  <thead>\n",
       "    <tr style=\"text-align: right;\">\n",
       "      <th></th>\n",
       "      <th>loan_amnt</th>\n",
       "      <th>term</th>\n",
       "      <th>int_rate</th>\n",
       "      <th>installment</th>\n",
       "      <th>grade</th>\n",
       "      <th>sub_grade</th>\n",
       "      <th>emp_length</th>\n",
       "      <th>home_ownership</th>\n",
       "      <th>annual_inc</th>\n",
       "      <th>verification_status</th>\n",
       "      <th>...</th>\n",
       "      <th>pub_rec</th>\n",
       "      <th>revol_bal</th>\n",
       "      <th>revol_util</th>\n",
       "      <th>total_acc</th>\n",
       "      <th>initial_list_status</th>\n",
       "      <th>application_type</th>\n",
       "      <th>mort_acc</th>\n",
       "      <th>pub_rec_bankruptcies</th>\n",
       "      <th>address</th>\n",
       "      <th>loan_repaid</th>\n",
       "    </tr>\n",
       "  </thead>\n",
       "  <tbody>\n",
       "    <tr>\n",
       "      <th>0</th>\n",
       "      <td>10000.0</td>\n",
       "      <td>36 months</td>\n",
       "      <td>11.44</td>\n",
       "      <td>329.48</td>\n",
       "      <td>B</td>\n",
       "      <td>B4</td>\n",
       "      <td>10.5</td>\n",
       "      <td>RENT</td>\n",
       "      <td>117000.0</td>\n",
       "      <td>Not Verified</td>\n",
       "      <td>...</td>\n",
       "      <td>0.0</td>\n",
       "      <td>36369.0</td>\n",
       "      <td>41.8</td>\n",
       "      <td>25.0</td>\n",
       "      <td>w</td>\n",
       "      <td>INDIVIDUAL</td>\n",
       "      <td>0.0</td>\n",
       "      <td>0.0</td>\n",
       "      <td>0174 Michelle Gateway\\nMendozaberg, OK 22690</td>\n",
       "      <td>1</td>\n",
       "    </tr>\n",
       "    <tr>\n",
       "      <th>1</th>\n",
       "      <td>8000.0</td>\n",
       "      <td>36 months</td>\n",
       "      <td>11.99</td>\n",
       "      <td>265.68</td>\n",
       "      <td>B</td>\n",
       "      <td>B5</td>\n",
       "      <td>4.0</td>\n",
       "      <td>MORTGAGE</td>\n",
       "      <td>65000.0</td>\n",
       "      <td>Not Verified</td>\n",
       "      <td>...</td>\n",
       "      <td>0.0</td>\n",
       "      <td>20131.0</td>\n",
       "      <td>53.3</td>\n",
       "      <td>27.0</td>\n",
       "      <td>f</td>\n",
       "      <td>INDIVIDUAL</td>\n",
       "      <td>3.0</td>\n",
       "      <td>0.0</td>\n",
       "      <td>1076 Carney Fort Apt. 347\\nLoganmouth, SD 05113</td>\n",
       "      <td>1</td>\n",
       "    </tr>\n",
       "    <tr>\n",
       "      <th>2</th>\n",
       "      <td>15600.0</td>\n",
       "      <td>36 months</td>\n",
       "      <td>10.49</td>\n",
       "      <td>506.97</td>\n",
       "      <td>B</td>\n",
       "      <td>B3</td>\n",
       "      <td>0.5</td>\n",
       "      <td>RENT</td>\n",
       "      <td>43057.0</td>\n",
       "      <td>Source Verified</td>\n",
       "      <td>...</td>\n",
       "      <td>0.0</td>\n",
       "      <td>11987.0</td>\n",
       "      <td>92.2</td>\n",
       "      <td>26.0</td>\n",
       "      <td>f</td>\n",
       "      <td>INDIVIDUAL</td>\n",
       "      <td>0.0</td>\n",
       "      <td>0.0</td>\n",
       "      <td>87025 Mark Dale Apt. 269\\nNew Sabrina, WV 05113</td>\n",
       "      <td>1</td>\n",
       "    </tr>\n",
       "    <tr>\n",
       "      <th>3</th>\n",
       "      <td>7200.0</td>\n",
       "      <td>36 months</td>\n",
       "      <td>6.49</td>\n",
       "      <td>220.65</td>\n",
       "      <td>A</td>\n",
       "      <td>A2</td>\n",
       "      <td>6.0</td>\n",
       "      <td>RENT</td>\n",
       "      <td>54000.0</td>\n",
       "      <td>Not Verified</td>\n",
       "      <td>...</td>\n",
       "      <td>0.0</td>\n",
       "      <td>5472.0</td>\n",
       "      <td>21.5</td>\n",
       "      <td>13.0</td>\n",
       "      <td>f</td>\n",
       "      <td>INDIVIDUAL</td>\n",
       "      <td>0.0</td>\n",
       "      <td>0.0</td>\n",
       "      <td>823 Reid Ford\\nDelacruzside, MA 00813</td>\n",
       "      <td>1</td>\n",
       "    </tr>\n",
       "    <tr>\n",
       "      <th>4</th>\n",
       "      <td>24375.0</td>\n",
       "      <td>60 months</td>\n",
       "      <td>17.27</td>\n",
       "      <td>609.33</td>\n",
       "      <td>C</td>\n",
       "      <td>C5</td>\n",
       "      <td>9.0</td>\n",
       "      <td>MORTGAGE</td>\n",
       "      <td>55000.0</td>\n",
       "      <td>Verified</td>\n",
       "      <td>...</td>\n",
       "      <td>0.0</td>\n",
       "      <td>24584.0</td>\n",
       "      <td>69.8</td>\n",
       "      <td>43.0</td>\n",
       "      <td>f</td>\n",
       "      <td>INDIVIDUAL</td>\n",
       "      <td>1.0</td>\n",
       "      <td>0.0</td>\n",
       "      <td>679 Luna Roads\\nGreggshire, VA 11650</td>\n",
       "      <td>0</td>\n",
       "    </tr>\n",
       "  </tbody>\n",
       "</table>\n",
       "<p>5 rows × 25 columns</p>\n",
       "</div>"
      ],
      "text/plain": [
       "   loan_amnt        term  int_rate  installment grade sub_grade  emp_length  \\\n",
       "0    10000.0   36 months     11.44       329.48     B        B4        10.5   \n",
       "1     8000.0   36 months     11.99       265.68     B        B5         4.0   \n",
       "2    15600.0   36 months     10.49       506.97     B        B3         0.5   \n",
       "3     7200.0   36 months      6.49       220.65     A        A2         6.0   \n",
       "4    24375.0   60 months     17.27       609.33     C        C5         9.0   \n",
       "\n",
       "  home_ownership  annual_inc verification_status  ... pub_rec revol_bal  \\\n",
       "0           RENT    117000.0        Not Verified  ...     0.0   36369.0   \n",
       "1       MORTGAGE     65000.0        Not Verified  ...     0.0   20131.0   \n",
       "2           RENT     43057.0     Source Verified  ...     0.0   11987.0   \n",
       "3           RENT     54000.0        Not Verified  ...     0.0    5472.0   \n",
       "4       MORTGAGE     55000.0            Verified  ...     0.0   24584.0   \n",
       "\n",
       "   revol_util total_acc  initial_list_status  application_type  mort_acc  \\\n",
       "0        41.8      25.0                    w        INDIVIDUAL       0.0   \n",
       "1        53.3      27.0                    f        INDIVIDUAL       3.0   \n",
       "2        92.2      26.0                    f        INDIVIDUAL       0.0   \n",
       "3        21.5      13.0                    f        INDIVIDUAL       0.0   \n",
       "4        69.8      43.0                    f        INDIVIDUAL       1.0   \n",
       "\n",
       "   pub_rec_bankruptcies                                          address  \\\n",
       "0                   0.0     0174 Michelle Gateway\\nMendozaberg, OK 22690   \n",
       "1                   0.0  1076 Carney Fort Apt. 347\\nLoganmouth, SD 05113   \n",
       "2                   0.0  87025 Mark Dale Apt. 269\\nNew Sabrina, WV 05113   \n",
       "3                   0.0            823 Reid Ford\\nDelacruzside, MA 00813   \n",
       "4                   0.0             679 Luna Roads\\nGreggshire, VA 11650   \n",
       "\n",
       "  loan_repaid  \n",
       "0           1  \n",
       "1           1  \n",
       "2           1  \n",
       "3           1  \n",
       "4           0  \n",
       "\n",
       "[5 rows x 25 columns]"
      ]
     },
     "execution_count": 95,
     "metadata": {},
     "output_type": "execute_result"
    }
   ],
   "source": [
    "df.head()"
   ]
  },
  {
   "cell_type": "code",
   "execution_count": 96,
   "id": "854b574c-16ec-4c6f-be10-d2459d55cd00",
   "metadata": {},
   "outputs": [],
   "source": [
    "\n",
    "\n",
    "df[\"term\"] = df[\"term\"].map({' 36 months':36,' 60 months':60})"
   ]
  },
  {
   "cell_type": "code",
   "execution_count": 97,
   "id": "4531b4e5-7815-4d58-b2f4-27450ac5d492",
   "metadata": {},
   "outputs": [
    {
     "data": {
      "text/plain": [
       "array([36, 60])"
      ]
     },
     "execution_count": 97,
     "metadata": {},
     "output_type": "execute_result"
    }
   ],
   "source": [
    "df[\"term\"].unique()"
   ]
  },
  {
   "cell_type": "code",
   "execution_count": 98,
   "id": "a62a52f3-875a-48ba-a182-0be7f7190f8a",
   "metadata": {},
   "outputs": [
    {
     "name": "stdout",
     "output_type": "stream",
     "text": [
      "<class 'pandas.core.frame.DataFrame'>\n",
      "RangeIndex: 396030 entries, 0 to 396029\n",
      "Data columns (total 25 columns):\n",
      " #   Column                Non-Null Count   Dtype  \n",
      "---  ------                --------------   -----  \n",
      " 0   loan_amnt             396030 non-null  float64\n",
      " 1   term                  396030 non-null  int64  \n",
      " 2   int_rate              396030 non-null  float64\n",
      " 3   installment           396030 non-null  float64\n",
      " 4   grade                 396030 non-null  object \n",
      " 5   sub_grade             396030 non-null  object \n",
      " 6   emp_length            396030 non-null  float64\n",
      " 7   home_ownership        396030 non-null  object \n",
      " 8   annual_inc            396030 non-null  float64\n",
      " 9   verification_status   396030 non-null  object \n",
      " 10  issue_d               396030 non-null  object \n",
      " 11  purpose               396030 non-null  object \n",
      " 12  dti                   396030 non-null  float64\n",
      " 13  earliest_cr_line      396030 non-null  object \n",
      " 14  open_acc              396030 non-null  float64\n",
      " 15  pub_rec               396030 non-null  float64\n",
      " 16  revol_bal             396030 non-null  float64\n",
      " 17  revol_util            396030 non-null  float64\n",
      " 18  total_acc             396030 non-null  float64\n",
      " 19  initial_list_status   396030 non-null  object \n",
      " 20  application_type      396030 non-null  object \n",
      " 21  mort_acc              396030 non-null  float64\n",
      " 22  pub_rec_bankruptcies  396030 non-null  float64\n",
      " 23  address               396030 non-null  object \n",
      " 24  loan_repaid           396030 non-null  int64  \n",
      "dtypes: float64(13), int64(2), object(10)\n",
      "memory usage: 75.5+ MB\n"
     ]
    }
   ],
   "source": [
    "df.info()"
   ]
  },
  {
   "cell_type": "code",
   "execution_count": 99,
   "id": "a6a2e7f5-9f3c-405f-b894-ab00905a5f61",
   "metadata": {},
   "outputs": [
    {
     "data": {
      "text/html": [
       "<div>\n",
       "<style scoped>\n",
       "    .dataframe tbody tr th:only-of-type {\n",
       "        vertical-align: middle;\n",
       "    }\n",
       "\n",
       "    .dataframe tbody tr th {\n",
       "        vertical-align: top;\n",
       "    }\n",
       "\n",
       "    .dataframe thead th {\n",
       "        text-align: right;\n",
       "    }\n",
       "</style>\n",
       "<table border=\"1\" class=\"dataframe\">\n",
       "  <thead>\n",
       "    <tr style=\"text-align: right;\">\n",
       "      <th></th>\n",
       "      <th>loan_amnt</th>\n",
       "      <th>term</th>\n",
       "      <th>int_rate</th>\n",
       "      <th>installment</th>\n",
       "      <th>grade</th>\n",
       "      <th>sub_grade</th>\n",
       "      <th>emp_length</th>\n",
       "      <th>home_ownership</th>\n",
       "      <th>annual_inc</th>\n",
       "      <th>verification_status</th>\n",
       "      <th>...</th>\n",
       "      <th>pub_rec</th>\n",
       "      <th>revol_bal</th>\n",
       "      <th>revol_util</th>\n",
       "      <th>total_acc</th>\n",
       "      <th>initial_list_status</th>\n",
       "      <th>application_type</th>\n",
       "      <th>mort_acc</th>\n",
       "      <th>pub_rec_bankruptcies</th>\n",
       "      <th>address</th>\n",
       "      <th>loan_repaid</th>\n",
       "    </tr>\n",
       "  </thead>\n",
       "  <tbody>\n",
       "    <tr>\n",
       "      <th>0</th>\n",
       "      <td>10000.0</td>\n",
       "      <td>36</td>\n",
       "      <td>11.44</td>\n",
       "      <td>329.48</td>\n",
       "      <td>B</td>\n",
       "      <td>B4</td>\n",
       "      <td>10.5</td>\n",
       "      <td>RENT</td>\n",
       "      <td>117000.0</td>\n",
       "      <td>Not Verified</td>\n",
       "      <td>...</td>\n",
       "      <td>0.0</td>\n",
       "      <td>36369.0</td>\n",
       "      <td>41.8</td>\n",
       "      <td>25.0</td>\n",
       "      <td>w</td>\n",
       "      <td>INDIVIDUAL</td>\n",
       "      <td>0.0</td>\n",
       "      <td>0.0</td>\n",
       "      <td>0174 Michelle Gateway\\nMendozaberg, OK 22690</td>\n",
       "      <td>1</td>\n",
       "    </tr>\n",
       "    <tr>\n",
       "      <th>1</th>\n",
       "      <td>8000.0</td>\n",
       "      <td>36</td>\n",
       "      <td>11.99</td>\n",
       "      <td>265.68</td>\n",
       "      <td>B</td>\n",
       "      <td>B5</td>\n",
       "      <td>4.0</td>\n",
       "      <td>MORTGAGE</td>\n",
       "      <td>65000.0</td>\n",
       "      <td>Not Verified</td>\n",
       "      <td>...</td>\n",
       "      <td>0.0</td>\n",
       "      <td>20131.0</td>\n",
       "      <td>53.3</td>\n",
       "      <td>27.0</td>\n",
       "      <td>f</td>\n",
       "      <td>INDIVIDUAL</td>\n",
       "      <td>3.0</td>\n",
       "      <td>0.0</td>\n",
       "      <td>1076 Carney Fort Apt. 347\\nLoganmouth, SD 05113</td>\n",
       "      <td>1</td>\n",
       "    </tr>\n",
       "    <tr>\n",
       "      <th>2</th>\n",
       "      <td>15600.0</td>\n",
       "      <td>36</td>\n",
       "      <td>10.49</td>\n",
       "      <td>506.97</td>\n",
       "      <td>B</td>\n",
       "      <td>B3</td>\n",
       "      <td>0.5</td>\n",
       "      <td>RENT</td>\n",
       "      <td>43057.0</td>\n",
       "      <td>Source Verified</td>\n",
       "      <td>...</td>\n",
       "      <td>0.0</td>\n",
       "      <td>11987.0</td>\n",
       "      <td>92.2</td>\n",
       "      <td>26.0</td>\n",
       "      <td>f</td>\n",
       "      <td>INDIVIDUAL</td>\n",
       "      <td>0.0</td>\n",
       "      <td>0.0</td>\n",
       "      <td>87025 Mark Dale Apt. 269\\nNew Sabrina, WV 05113</td>\n",
       "      <td>1</td>\n",
       "    </tr>\n",
       "    <tr>\n",
       "      <th>3</th>\n",
       "      <td>7200.0</td>\n",
       "      <td>36</td>\n",
       "      <td>6.49</td>\n",
       "      <td>220.65</td>\n",
       "      <td>A</td>\n",
       "      <td>A2</td>\n",
       "      <td>6.0</td>\n",
       "      <td>RENT</td>\n",
       "      <td>54000.0</td>\n",
       "      <td>Not Verified</td>\n",
       "      <td>...</td>\n",
       "      <td>0.0</td>\n",
       "      <td>5472.0</td>\n",
       "      <td>21.5</td>\n",
       "      <td>13.0</td>\n",
       "      <td>f</td>\n",
       "      <td>INDIVIDUAL</td>\n",
       "      <td>0.0</td>\n",
       "      <td>0.0</td>\n",
       "      <td>823 Reid Ford\\nDelacruzside, MA 00813</td>\n",
       "      <td>1</td>\n",
       "    </tr>\n",
       "    <tr>\n",
       "      <th>4</th>\n",
       "      <td>24375.0</td>\n",
       "      <td>60</td>\n",
       "      <td>17.27</td>\n",
       "      <td>609.33</td>\n",
       "      <td>C</td>\n",
       "      <td>C5</td>\n",
       "      <td>9.0</td>\n",
       "      <td>MORTGAGE</td>\n",
       "      <td>55000.0</td>\n",
       "      <td>Verified</td>\n",
       "      <td>...</td>\n",
       "      <td>0.0</td>\n",
       "      <td>24584.0</td>\n",
       "      <td>69.8</td>\n",
       "      <td>43.0</td>\n",
       "      <td>f</td>\n",
       "      <td>INDIVIDUAL</td>\n",
       "      <td>1.0</td>\n",
       "      <td>0.0</td>\n",
       "      <td>679 Luna Roads\\nGreggshire, VA 11650</td>\n",
       "      <td>0</td>\n",
       "    </tr>\n",
       "  </tbody>\n",
       "</table>\n",
       "<p>5 rows × 25 columns</p>\n",
       "</div>"
      ],
      "text/plain": [
       "   loan_amnt  term  int_rate  installment grade sub_grade  emp_length  \\\n",
       "0    10000.0    36     11.44       329.48     B        B4        10.5   \n",
       "1     8000.0    36     11.99       265.68     B        B5         4.0   \n",
       "2    15600.0    36     10.49       506.97     B        B3         0.5   \n",
       "3     7200.0    36      6.49       220.65     A        A2         6.0   \n",
       "4    24375.0    60     17.27       609.33     C        C5         9.0   \n",
       "\n",
       "  home_ownership  annual_inc verification_status  ... pub_rec revol_bal  \\\n",
       "0           RENT    117000.0        Not Verified  ...     0.0   36369.0   \n",
       "1       MORTGAGE     65000.0        Not Verified  ...     0.0   20131.0   \n",
       "2           RENT     43057.0     Source Verified  ...     0.0   11987.0   \n",
       "3           RENT     54000.0        Not Verified  ...     0.0    5472.0   \n",
       "4       MORTGAGE     55000.0            Verified  ...     0.0   24584.0   \n",
       "\n",
       "   revol_util total_acc  initial_list_status  application_type  mort_acc  \\\n",
       "0        41.8      25.0                    w        INDIVIDUAL       0.0   \n",
       "1        53.3      27.0                    f        INDIVIDUAL       3.0   \n",
       "2        92.2      26.0                    f        INDIVIDUAL       0.0   \n",
       "3        21.5      13.0                    f        INDIVIDUAL       0.0   \n",
       "4        69.8      43.0                    f        INDIVIDUAL       1.0   \n",
       "\n",
       "   pub_rec_bankruptcies                                          address  \\\n",
       "0                   0.0     0174 Michelle Gateway\\nMendozaberg, OK 22690   \n",
       "1                   0.0  1076 Carney Fort Apt. 347\\nLoganmouth, SD 05113   \n",
       "2                   0.0  87025 Mark Dale Apt. 269\\nNew Sabrina, WV 05113   \n",
       "3                   0.0            823 Reid Ford\\nDelacruzside, MA 00813   \n",
       "4                   0.0             679 Luna Roads\\nGreggshire, VA 11650   \n",
       "\n",
       "  loan_repaid  \n",
       "0           1  \n",
       "1           1  \n",
       "2           1  \n",
       "3           1  \n",
       "4           0  \n",
       "\n",
       "[5 rows x 25 columns]"
      ]
     },
     "execution_count": 99,
     "metadata": {},
     "output_type": "execute_result"
    }
   ],
   "source": [
    "df.head()"
   ]
  },
  {
   "cell_type": "markdown",
   "id": "f23919f3-05b2-4a6f-948b-16feaf9cdcca",
   "metadata": {},
   "source": [
    "# We already know grade is part of sub_grade, so just drop the grade feature"
   ]
  },
  {
   "cell_type": "code",
   "execution_count": 100,
   "id": "e8919019-c3ff-46b3-818e-5e7d17cbf9b1",
   "metadata": {},
   "outputs": [],
   "source": [
    "df = df.drop('grade',axis=1)"
   ]
  },
  {
   "cell_type": "code",
   "execution_count": 101,
   "id": "e7f7351a-e9fd-4116-ab3e-507dadbfedcb",
   "metadata": {},
   "outputs": [
    {
     "data": {
      "text/plain": [
       "array(['B4', 'B5', 'B3', 'A2', 'C5', 'C3', 'A1', 'B2', 'C1', 'A5', 'E4',\n",
       "       'A4', 'A3', 'D1', 'C2', 'B1', 'D3', 'D5', 'D2', 'E1', 'E2', 'E5',\n",
       "       'F4', 'E3', 'D4', 'G1', 'F5', 'G2', 'C4', 'F1', 'F3', 'G5', 'G4',\n",
       "       'F2', 'G3'], dtype=object)"
      ]
     },
     "execution_count": 101,
     "metadata": {},
     "output_type": "execute_result"
    }
   ],
   "source": [
    "df[\"sub_grade\"].unique()"
   ]
  },
  {
   "cell_type": "code",
   "execution_count": 102,
   "id": "293bfdef-0737-4337-8195-c15695573db0",
   "metadata": {},
   "outputs": [],
   "source": [
    "subgrade_dummies = pd.get_dummies(df['sub_grade'],drop_first=True)"
   ]
  },
  {
   "cell_type": "code",
   "execution_count": 103,
   "id": "0b3b0c54-8b4f-4546-9f89-4df3eb780e57",
   "metadata": {},
   "outputs": [],
   "source": [
    "df = pd.concat([df.drop('sub_grade',axis=1),subgrade_dummies],axis=1)"
   ]
  },
  {
   "cell_type": "code",
   "execution_count": 104,
   "id": "79b975ad-d26d-474e-a1d6-0a9f69015fbd",
   "metadata": {},
   "outputs": [
    {
     "data": {
      "text/plain": [
       "Index(['loan_amnt', 'term', 'int_rate', 'installment', 'emp_length',\n",
       "       'home_ownership', 'annual_inc', 'verification_status', 'issue_d',\n",
       "       'purpose', 'dti', 'earliest_cr_line', 'open_acc', 'pub_rec',\n",
       "       'revol_bal', 'revol_util', 'total_acc', 'initial_list_status',\n",
       "       'application_type', 'mort_acc', 'pub_rec_bankruptcies', 'address',\n",
       "       'loan_repaid', 'A2', 'A3', 'A4', 'A5', 'B1', 'B2', 'B3', 'B4', 'B5',\n",
       "       'C1', 'C2', 'C3', 'C4', 'C5', 'D1', 'D2', 'D3', 'D4', 'D5', 'E1', 'E2',\n",
       "       'E3', 'E4', 'E5', 'F1', 'F2', 'F3', 'F4', 'F5', 'G1', 'G2', 'G3', 'G4',\n",
       "       'G5'],\n",
       "      dtype='object')"
      ]
     },
     "execution_count": 104,
     "metadata": {},
     "output_type": "execute_result"
    }
   ],
   "source": [
    "df.columns"
   ]
  },
  {
   "cell_type": "code",
   "execution_count": 105,
   "id": "e386efa8-7cbe-4f71-aee5-c8015afb2dd1",
   "metadata": {},
   "outputs": [
    {
     "name": "stdout",
     "output_type": "stream",
     "text": [
      "<class 'pandas.core.frame.DataFrame'>\n",
      "RangeIndex: 396030 entries, 0 to 396029\n",
      "Data columns (total 57 columns):\n",
      " #   Column                Non-Null Count   Dtype  \n",
      "---  ------                --------------   -----  \n",
      " 0   loan_amnt             396030 non-null  float64\n",
      " 1   term                  396030 non-null  int64  \n",
      " 2   int_rate              396030 non-null  float64\n",
      " 3   installment           396030 non-null  float64\n",
      " 4   emp_length            396030 non-null  float64\n",
      " 5   home_ownership        396030 non-null  object \n",
      " 6   annual_inc            396030 non-null  float64\n",
      " 7   verification_status   396030 non-null  object \n",
      " 8   issue_d               396030 non-null  object \n",
      " 9   purpose               396030 non-null  object \n",
      " 10  dti                   396030 non-null  float64\n",
      " 11  earliest_cr_line      396030 non-null  object \n",
      " 12  open_acc              396030 non-null  float64\n",
      " 13  pub_rec               396030 non-null  float64\n",
      " 14  revol_bal             396030 non-null  float64\n",
      " 15  revol_util            396030 non-null  float64\n",
      " 16  total_acc             396030 non-null  float64\n",
      " 17  initial_list_status   396030 non-null  object \n",
      " 18  application_type      396030 non-null  object \n",
      " 19  mort_acc              396030 non-null  float64\n",
      " 20  pub_rec_bankruptcies  396030 non-null  float64\n",
      " 21  address               396030 non-null  object \n",
      " 22  loan_repaid           396030 non-null  int64  \n",
      " 23  A2                    396030 non-null  bool   \n",
      " 24  A3                    396030 non-null  bool   \n",
      " 25  A4                    396030 non-null  bool   \n",
      " 26  A5                    396030 non-null  bool   \n",
      " 27  B1                    396030 non-null  bool   \n",
      " 28  B2                    396030 non-null  bool   \n",
      " 29  B3                    396030 non-null  bool   \n",
      " 30  B4                    396030 non-null  bool   \n",
      " 31  B5                    396030 non-null  bool   \n",
      " 32  C1                    396030 non-null  bool   \n",
      " 33  C2                    396030 non-null  bool   \n",
      " 34  C3                    396030 non-null  bool   \n",
      " 35  C4                    396030 non-null  bool   \n",
      " 36  C5                    396030 non-null  bool   \n",
      " 37  D1                    396030 non-null  bool   \n",
      " 38  D2                    396030 non-null  bool   \n",
      " 39  D3                    396030 non-null  bool   \n",
      " 40  D4                    396030 non-null  bool   \n",
      " 41  D5                    396030 non-null  bool   \n",
      " 42  E1                    396030 non-null  bool   \n",
      " 43  E2                    396030 non-null  bool   \n",
      " 44  E3                    396030 non-null  bool   \n",
      " 45  E4                    396030 non-null  bool   \n",
      " 46  E5                    396030 non-null  bool   \n",
      " 47  F1                    396030 non-null  bool   \n",
      " 48  F2                    396030 non-null  bool   \n",
      " 49  F3                    396030 non-null  bool   \n",
      " 50  F4                    396030 non-null  bool   \n",
      " 51  F5                    396030 non-null  bool   \n",
      " 52  G1                    396030 non-null  bool   \n",
      " 53  G2                    396030 non-null  bool   \n",
      " 54  G3                    396030 non-null  bool   \n",
      " 55  G4                    396030 non-null  bool   \n",
      " 56  G5                    396030 non-null  bool   \n",
      "dtypes: bool(34), float64(13), int64(2), object(8)\n",
      "memory usage: 82.3+ MB\n"
     ]
    }
   ],
   "source": [
    "df.info()"
   ]
  },
  {
   "cell_type": "code",
   "execution_count": 106,
   "id": "b529d249-fdf0-480b-9ad3-e9a7a72d67c2",
   "metadata": {},
   "outputs": [
    {
     "data": {
      "text/plain": [
       "home_ownership\n",
       "MORTGAGE    198348\n",
       "RENT        159790\n",
       "OWN          37746\n",
       "OTHER          112\n",
       "NONE            31\n",
       "ANY              3\n",
       "Name: count, dtype: int64"
      ]
     },
     "execution_count": 106,
     "metadata": {},
     "output_type": "execute_result"
    }
   ],
   "source": [
    "df['home_ownership'].value_counts()"
   ]
  },
  {
   "cell_type": "code",
   "execution_count": 107,
   "id": "a715197b-212f-48f9-8795-b30e90b91754",
   "metadata": {},
   "outputs": [],
   "source": [
    "df[\"home_ownership\"] = df[\"home_ownership\"].replace([\"NONE\",\"ANY\"],\"OTHER\")"
   ]
  },
  {
   "cell_type": "code",
   "execution_count": 108,
   "id": "af1e39b0-763e-44ec-99f0-137ddcec0638",
   "metadata": {},
   "outputs": [
    {
     "data": {
      "text/plain": [
       "Index(['home_ownership', 'verification_status', 'issue_d', 'purpose',\n",
       "       'earliest_cr_line', 'initial_list_status', 'application_type',\n",
       "       'address'],\n",
       "      dtype='object')"
      ]
     },
     "execution_count": 108,
     "metadata": {},
     "output_type": "execute_result"
    }
   ],
   "source": [
    "df.select_dtypes(['object']).columns"
   ]
  },
  {
   "cell_type": "code",
   "execution_count": 109,
   "id": "b80bcded-bbd8-4f9a-a91b-00f368142522",
   "metadata": {},
   "outputs": [
    {
     "data": {
      "text/plain": [
       "home_ownership\n",
       "MORTGAGE    198348\n",
       "RENT        159790\n",
       "OWN          37746\n",
       "OTHER          146\n",
       "Name: count, dtype: int64"
      ]
     },
     "execution_count": 109,
     "metadata": {},
     "output_type": "execute_result"
    }
   ],
   "source": [
    "df['home_ownership'].value_counts()"
   ]
  },
  {
   "cell_type": "code",
   "execution_count": 110,
   "id": "bb2b6cb4-1777-45c2-a492-57c7451954b3",
   "metadata": {},
   "outputs": [],
   "source": [
    "dummies = pd.get_dummies(df[['verification_status', 'application_type','initial_list_status','purpose' ]],drop_first=True)\n",
    "df = df.drop(['verification_status', 'application_type','initial_list_status','purpose'],axis=1)\n",
    "df = pd.concat([df,dummies],axis=1)"
   ]
  },
  {
   "cell_type": "code",
   "execution_count": 111,
   "id": "e244cc53-b0ad-420b-82e2-58563e097421",
   "metadata": {},
   "outputs": [],
   "source": [
    "dummies = pd.get_dummies(df['home_ownership'],drop_first=True)\n",
    "df = df.drop('home_ownership',axis=1)\n",
    "df = pd.concat([df,dummies],axis=1)"
   ]
  },
  {
   "cell_type": "code",
   "execution_count": 114,
   "id": "b7a273c2-d2e3-4d91-8b2e-2d60d636d91b",
   "metadata": {},
   "outputs": [
    {
     "data": {
      "text/plain": [
       "Index(['issue_d', 'earliest_cr_line', 'address'], dtype='object')"
      ]
     },
     "execution_count": 114,
     "metadata": {},
     "output_type": "execute_result"
    }
   ],
   "source": [
    "df.select_dtypes(['object']).columns"
   ]
  },
  {
   "cell_type": "code",
   "execution_count": 115,
   "id": "6b0e9d08-e727-434b-a484-61fe0aec1d6c",
   "metadata": {},
   "outputs": [
    {
     "data": {
      "text/plain": [
       "0    Jan-2015\n",
       "1    Jan-2015\n",
       "2    Jan-2015\n",
       "3    Nov-2014\n",
       "4    Apr-2013\n",
       "Name: issue_d, dtype: object"
      ]
     },
     "execution_count": 115,
     "metadata": {},
     "output_type": "execute_result"
    }
   ],
   "source": [
    "df[\"issue_d\"].head()"
   ]
  },
  {
   "cell_type": "code",
   "execution_count": 116,
   "id": "d3467d6b-9e88-4482-b0a7-8974f747de89",
   "metadata": {},
   "outputs": [],
   "source": [
    "# in theory we wouldn't have an issue_date, drop this feature."
   ]
  },
  {
   "cell_type": "code",
   "execution_count": 117,
   "id": "b993fa15-5599-4d33-bd78-d03f5102d700",
   "metadata": {},
   "outputs": [],
   "source": [
    "df = df.drop('issue_d',axis=1)"
   ]
  },
  {
   "cell_type": "code",
   "execution_count": 119,
   "id": "99ba755a-de4b-4141-b6d8-639e52ac9621",
   "metadata": {},
   "outputs": [],
   "source": [
    "# extract year that can be useful"
   ]
  },
  {
   "cell_type": "code",
   "execution_count": 120,
   "id": "15ba0f50-66b6-4910-bb2c-8a89df60d45b",
   "metadata": {},
   "outputs": [],
   "source": [
    "df['earliest_cr_year'] = df['earliest_cr_line'].apply(lambda date:int(date[-4:]))\n",
    "df = df.drop('earliest_cr_line',axis=1)"
   ]
  },
  {
   "cell_type": "code",
   "execution_count": 121,
   "id": "4450e9e1-4b52-469b-b36b-7b427a008a5e",
   "metadata": {},
   "outputs": [
    {
     "data": {
      "text/plain": [
       "0          0174 Michelle Gateway\\nMendozaberg, OK 22690\n",
       "1       1076 Carney Fort Apt. 347\\nLoganmouth, SD 05113\n",
       "2       87025 Mark Dale Apt. 269\\nNew Sabrina, WV 05113\n",
       "3                 823 Reid Ford\\nDelacruzside, MA 00813\n",
       "4                  679 Luna Roads\\nGreggshire, VA 11650\n",
       "5     1726 Cooper Passage Suite 129\\nNorth Deniseber...\n",
       "6     1008 Erika Vista Suite 748\\nEast Stephanie, TX...\n",
       "7                             USCGC Nunez\\nFPO AE 30723\n",
       "8                              USCGC Tran\\nFPO AP 22690\n",
       "9                  3390 Luis Rue\\nMauricestad, VA 00813\n",
       "10            40245 Cody Drives\\nBartlettfort, NM 00813\n",
       "11     3126 Sean Dale Apt. 141\\nSouth Matthew, MS 00813\n",
       "12       4173 David Extension\\nWest Beckyfort, MS 70466\n",
       "13             3343 Wells Mews\\nShellychester, OR 29597\n",
       "14    0472 Weber Manors Apt. 660\\nLake Andrew, NH 29597\n",
       "15     11629 Sean Hills Suite 614\\nStevenfort, HI 30723\n",
       "16    407 Briggs Lodge Suite 778\\nWest Aprilborough,...\n",
       "17    487 Jennifer Parkway Suite 940\\nCummingsshire,...\n",
       "18        254 Mary Ferry\\nPort Kirstenborough, CO 70466\n",
       "19                     Unit 8386 Box 5821\\nDPO AE 05113\n",
       "Name: address, dtype: object"
      ]
     },
     "execution_count": 121,
     "metadata": {},
     "output_type": "execute_result"
    }
   ],
   "source": [
    "df[\"address\"].head(20)"
   ]
  },
  {
   "cell_type": "code",
   "execution_count": 122,
   "id": "7d8c5a98-65d8-45ed-9800-206a33d118f0",
   "metadata": {},
   "outputs": [],
   "source": [
    "df['zip_code'] = df['address'].apply(lambda address:address[-5:])"
   ]
  },
  {
   "cell_type": "code",
   "execution_count": 123,
   "id": "37c9fb44-95ba-49bb-bc86-4b8261e02cad",
   "metadata": {},
   "outputs": [],
   "source": [
    "dummies = pd.get_dummies(df['zip_code'],drop_first=True)\n",
    "df = df.drop(['zip_code','address'],axis=1)\n",
    "df = pd.concat([df,dummies],axis=1)"
   ]
  },
  {
   "cell_type": "code",
   "execution_count": 125,
   "id": "f5f5994c-585b-46e7-8e3d-d99f7517c2c7",
   "metadata": {
    "scrolled": true
   },
   "outputs": [
    {
     "name": "stdout",
     "output_type": "stream",
     "text": [
      "<class 'pandas.core.frame.DataFrame'>\n",
      "RangeIndex: 396030 entries, 0 to 396029\n",
      "Data columns (total 80 columns):\n",
      " #   Column                               Non-Null Count   Dtype  \n",
      "---  ------                               --------------   -----  \n",
      " 0   loan_amnt                            396030 non-null  float64\n",
      " 1   term                                 396030 non-null  int64  \n",
      " 2   int_rate                             396030 non-null  float64\n",
      " 3   installment                          396030 non-null  float64\n",
      " 4   emp_length                           396030 non-null  float64\n",
      " 5   annual_inc                           396030 non-null  float64\n",
      " 6   dti                                  396030 non-null  float64\n",
      " 7   open_acc                             396030 non-null  float64\n",
      " 8   pub_rec                              396030 non-null  float64\n",
      " 9   revol_bal                            396030 non-null  float64\n",
      " 10  revol_util                           396030 non-null  float64\n",
      " 11  total_acc                            396030 non-null  float64\n",
      " 12  mort_acc                             396030 non-null  float64\n",
      " 13  pub_rec_bankruptcies                 396030 non-null  float64\n",
      " 14  loan_repaid                          396030 non-null  int64  \n",
      " 15  A2                                   396030 non-null  bool   \n",
      " 16  A3                                   396030 non-null  bool   \n",
      " 17  A4                                   396030 non-null  bool   \n",
      " 18  A5                                   396030 non-null  bool   \n",
      " 19  B1                                   396030 non-null  bool   \n",
      " 20  B2                                   396030 non-null  bool   \n",
      " 21  B3                                   396030 non-null  bool   \n",
      " 22  B4                                   396030 non-null  bool   \n",
      " 23  B5                                   396030 non-null  bool   \n",
      " 24  C1                                   396030 non-null  bool   \n",
      " 25  C2                                   396030 non-null  bool   \n",
      " 26  C3                                   396030 non-null  bool   \n",
      " 27  C4                                   396030 non-null  bool   \n",
      " 28  C5                                   396030 non-null  bool   \n",
      " 29  D1                                   396030 non-null  bool   \n",
      " 30  D2                                   396030 non-null  bool   \n",
      " 31  D3                                   396030 non-null  bool   \n",
      " 32  D4                                   396030 non-null  bool   \n",
      " 33  D5                                   396030 non-null  bool   \n",
      " 34  E1                                   396030 non-null  bool   \n",
      " 35  E2                                   396030 non-null  bool   \n",
      " 36  E3                                   396030 non-null  bool   \n",
      " 37  E4                                   396030 non-null  bool   \n",
      " 38  E5                                   396030 non-null  bool   \n",
      " 39  F1                                   396030 non-null  bool   \n",
      " 40  F2                                   396030 non-null  bool   \n",
      " 41  F3                                   396030 non-null  bool   \n",
      " 42  F4                                   396030 non-null  bool   \n",
      " 43  F5                                   396030 non-null  bool   \n",
      " 44  G1                                   396030 non-null  bool   \n",
      " 45  G2                                   396030 non-null  bool   \n",
      " 46  G3                                   396030 non-null  bool   \n",
      " 47  G4                                   396030 non-null  bool   \n",
      " 48  G5                                   396030 non-null  bool   \n",
      " 49  verification_status_Source Verified  396030 non-null  bool   \n",
      " 50  verification_status_Verified         396030 non-null  bool   \n",
      " 51  application_type_INDIVIDUAL          396030 non-null  bool   \n",
      " 52  application_type_JOINT               396030 non-null  bool   \n",
      " 53  initial_list_status_w                396030 non-null  bool   \n",
      " 54  purpose_credit_card                  396030 non-null  bool   \n",
      " 55  purpose_debt_consolidation           396030 non-null  bool   \n",
      " 56  purpose_educational                  396030 non-null  bool   \n",
      " 57  purpose_home_improvement             396030 non-null  bool   \n",
      " 58  purpose_house                        396030 non-null  bool   \n",
      " 59  purpose_major_purchase               396030 non-null  bool   \n",
      " 60  purpose_medical                      396030 non-null  bool   \n",
      " 61  purpose_moving                       396030 non-null  bool   \n",
      " 62  purpose_other                        396030 non-null  bool   \n",
      " 63  purpose_renewable_energy             396030 non-null  bool   \n",
      " 64  purpose_small_business               396030 non-null  bool   \n",
      " 65  purpose_vacation                     396030 non-null  bool   \n",
      " 66  purpose_wedding                      396030 non-null  bool   \n",
      " 67  OTHER                                396030 non-null  bool   \n",
      " 68  OWN                                  396030 non-null  bool   \n",
      " 69  RENT                                 396030 non-null  bool   \n",
      " 70  earliest_cr_year                     396030 non-null  int64  \n",
      " 71  05113                                396030 non-null  bool   \n",
      " 72  11650                                396030 non-null  bool   \n",
      " 73  22690                                396030 non-null  bool   \n",
      " 74  29597                                396030 non-null  bool   \n",
      " 75  30723                                396030 non-null  bool   \n",
      " 76  48052                                396030 non-null  bool   \n",
      " 77  70466                                396030 non-null  bool   \n",
      " 78  86630                                396030 non-null  bool   \n",
      " 79  93700                                396030 non-null  bool   \n",
      "dtypes: bool(64), float64(13), int64(3)\n",
      "memory usage: 72.5 MB\n"
     ]
    }
   ],
   "source": [
    "df.info()"
   ]
  },
  {
   "cell_type": "code",
   "execution_count": 128,
   "id": "88c63e22-461b-44ab-b38e-da0130515835",
   "metadata": {},
   "outputs": [],
   "source": [
    "# Select columns with boolean dtype\n",
    "bool_cols = df.select_dtypes(include='bool').columns\n",
    "\n",
    "# Convert boolean columns to int (True -> 1, False -> 0)\n",
    "df[bool_cols] = df[bool_cols].astype(int)"
   ]
  },
  {
   "cell_type": "code",
   "execution_count": 129,
   "id": "3367ddbf-7e90-4f7d-b6c9-fb09b229f1c4",
   "metadata": {},
   "outputs": [],
   "source": [
    "bool_cols = df.select_dtypes(include='bool').columns"
   ]
  },
  {
   "cell_type": "code",
   "execution_count": 130,
   "id": "3a396e0c-ef32-4e2e-afda-edec24daf05a",
   "metadata": {},
   "outputs": [
    {
     "data": {
      "text/plain": [
       "Index([], dtype='object')"
      ]
     },
     "execution_count": 130,
     "metadata": {},
     "output_type": "execute_result"
    }
   ],
   "source": [
    "bool_cols"
   ]
  },
  {
   "cell_type": "code",
   "execution_count": null,
   "id": "705eadde-9654-4b5a-9f4b-8f9945eb5cc0",
   "metadata": {},
   "outputs": [],
   "source": []
  },
  {
   "cell_type": "code",
   "execution_count": 131,
   "id": "c4c5674b-614b-48b8-b87f-2a31e0a5366c",
   "metadata": {},
   "outputs": [],
   "source": [
    "df[bool_cols] = df[bool_cols].astype(int)"
   ]
  },
  {
   "cell_type": "code",
   "execution_count": 132,
   "id": "24ecf2a3-1d25-4da0-9094-9db661406782",
   "metadata": {
    "scrolled": true
   },
   "outputs": [
    {
     "name": "stdout",
     "output_type": "stream",
     "text": [
      "<class 'pandas.core.frame.DataFrame'>\n",
      "RangeIndex: 396030 entries, 0 to 396029\n",
      "Data columns (total 80 columns):\n",
      " #   Column                               Non-Null Count   Dtype  \n",
      "---  ------                               --------------   -----  \n",
      " 0   loan_amnt                            396030 non-null  float64\n",
      " 1   term                                 396030 non-null  int64  \n",
      " 2   int_rate                             396030 non-null  float64\n",
      " 3   installment                          396030 non-null  float64\n",
      " 4   emp_length                           396030 non-null  float64\n",
      " 5   annual_inc                           396030 non-null  float64\n",
      " 6   dti                                  396030 non-null  float64\n",
      " 7   open_acc                             396030 non-null  float64\n",
      " 8   pub_rec                              396030 non-null  float64\n",
      " 9   revol_bal                            396030 non-null  float64\n",
      " 10  revol_util                           396030 non-null  float64\n",
      " 11  total_acc                            396030 non-null  float64\n",
      " 12  mort_acc                             396030 non-null  float64\n",
      " 13  pub_rec_bankruptcies                 396030 non-null  float64\n",
      " 14  loan_repaid                          396030 non-null  int64  \n",
      " 15  A2                                   396030 non-null  int64  \n",
      " 16  A3                                   396030 non-null  int64  \n",
      " 17  A4                                   396030 non-null  int64  \n",
      " 18  A5                                   396030 non-null  int64  \n",
      " 19  B1                                   396030 non-null  int64  \n",
      " 20  B2                                   396030 non-null  int64  \n",
      " 21  B3                                   396030 non-null  int64  \n",
      " 22  B4                                   396030 non-null  int64  \n",
      " 23  B5                                   396030 non-null  int64  \n",
      " 24  C1                                   396030 non-null  int64  \n",
      " 25  C2                                   396030 non-null  int64  \n",
      " 26  C3                                   396030 non-null  int64  \n",
      " 27  C4                                   396030 non-null  int64  \n",
      " 28  C5                                   396030 non-null  int64  \n",
      " 29  D1                                   396030 non-null  int64  \n",
      " 30  D2                                   396030 non-null  int64  \n",
      " 31  D3                                   396030 non-null  int64  \n",
      " 32  D4                                   396030 non-null  int64  \n",
      " 33  D5                                   396030 non-null  int64  \n",
      " 34  E1                                   396030 non-null  int64  \n",
      " 35  E2                                   396030 non-null  int64  \n",
      " 36  E3                                   396030 non-null  int64  \n",
      " 37  E4                                   396030 non-null  int64  \n",
      " 38  E5                                   396030 non-null  int64  \n",
      " 39  F1                                   396030 non-null  int64  \n",
      " 40  F2                                   396030 non-null  int64  \n",
      " 41  F3                                   396030 non-null  int64  \n",
      " 42  F4                                   396030 non-null  int64  \n",
      " 43  F5                                   396030 non-null  int64  \n",
      " 44  G1                                   396030 non-null  int64  \n",
      " 45  G2                                   396030 non-null  int64  \n",
      " 46  G3                                   396030 non-null  int64  \n",
      " 47  G4                                   396030 non-null  int64  \n",
      " 48  G5                                   396030 non-null  int64  \n",
      " 49  verification_status_Source Verified  396030 non-null  int64  \n",
      " 50  verification_status_Verified         396030 non-null  int64  \n",
      " 51  application_type_INDIVIDUAL          396030 non-null  int64  \n",
      " 52  application_type_JOINT               396030 non-null  int64  \n",
      " 53  initial_list_status_w                396030 non-null  int64  \n",
      " 54  purpose_credit_card                  396030 non-null  int64  \n",
      " 55  purpose_debt_consolidation           396030 non-null  int64  \n",
      " 56  purpose_educational                  396030 non-null  int64  \n",
      " 57  purpose_home_improvement             396030 non-null  int64  \n",
      " 58  purpose_house                        396030 non-null  int64  \n",
      " 59  purpose_major_purchase               396030 non-null  int64  \n",
      " 60  purpose_medical                      396030 non-null  int64  \n",
      " 61  purpose_moving                       396030 non-null  int64  \n",
      " 62  purpose_other                        396030 non-null  int64  \n",
      " 63  purpose_renewable_energy             396030 non-null  int64  \n",
      " 64  purpose_small_business               396030 non-null  int64  \n",
      " 65  purpose_vacation                     396030 non-null  int64  \n",
      " 66  purpose_wedding                      396030 non-null  int64  \n",
      " 67  OTHER                                396030 non-null  int64  \n",
      " 68  OWN                                  396030 non-null  int64  \n",
      " 69  RENT                                 396030 non-null  int64  \n",
      " 70  earliest_cr_year                     396030 non-null  int64  \n",
      " 71  05113                                396030 non-null  int64  \n",
      " 72  11650                                396030 non-null  int64  \n",
      " 73  22690                                396030 non-null  int64  \n",
      " 74  29597                                396030 non-null  int64  \n",
      " 75  30723                                396030 non-null  int64  \n",
      " 76  48052                                396030 non-null  int64  \n",
      " 77  70466                                396030 non-null  int64  \n",
      " 78  86630                                396030 non-null  int64  \n",
      " 79  93700                                396030 non-null  int64  \n",
      "dtypes: float64(13), int64(67)\n",
      "memory usage: 241.7 MB\n"
     ]
    }
   ],
   "source": [
    "df.info()"
   ]
  },
  {
   "cell_type": "code",
   "execution_count": 133,
   "id": "2da8dc72-fda5-4771-a5a1-7fbd0e53cac0",
   "metadata": {},
   "outputs": [],
   "source": [
    "## there is high corelation bw installment and loan amnt , and both having low corelation with target, lets drop installment"
   ]
  },
  {
   "cell_type": "code",
   "execution_count": 135,
   "id": "acfd5af5-fc4e-4346-8f99-6371c4328555",
   "metadata": {},
   "outputs": [
    {
     "data": {
      "text/html": [
       "<div>\n",
       "<style scoped>\n",
       "    .dataframe tbody tr th:only-of-type {\n",
       "        vertical-align: middle;\n",
       "    }\n",
       "\n",
       "    .dataframe tbody tr th {\n",
       "        vertical-align: top;\n",
       "    }\n",
       "\n",
       "    .dataframe thead th {\n",
       "        text-align: right;\n",
       "    }\n",
       "</style>\n",
       "<table border=\"1\" class=\"dataframe\">\n",
       "  <thead>\n",
       "    <tr style=\"text-align: right;\">\n",
       "      <th></th>\n",
       "      <th>loan_amnt</th>\n",
       "      <th>term</th>\n",
       "      <th>int_rate</th>\n",
       "      <th>installment</th>\n",
       "      <th>emp_length</th>\n",
       "      <th>annual_inc</th>\n",
       "      <th>dti</th>\n",
       "      <th>open_acc</th>\n",
       "      <th>pub_rec</th>\n",
       "      <th>revol_bal</th>\n",
       "      <th>...</th>\n",
       "      <th>earliest_cr_year</th>\n",
       "      <th>05113</th>\n",
       "      <th>11650</th>\n",
       "      <th>22690</th>\n",
       "      <th>29597</th>\n",
       "      <th>30723</th>\n",
       "      <th>48052</th>\n",
       "      <th>70466</th>\n",
       "      <th>86630</th>\n",
       "      <th>93700</th>\n",
       "    </tr>\n",
       "  </thead>\n",
       "  <tbody>\n",
       "    <tr>\n",
       "      <th>loan_amnt</th>\n",
       "      <td>1.000000</td>\n",
       "      <td>0.393862</td>\n",
       "      <td>0.168921</td>\n",
       "      <td>0.953929</td>\n",
       "      <td>0.099677</td>\n",
       "      <td>0.336887</td>\n",
       "      <td>0.016636</td>\n",
       "      <td>0.198556</td>\n",
       "      <td>-0.077779</td>\n",
       "      <td>0.328320</td>\n",
       "      <td>...</td>\n",
       "      <td>-0.147003</td>\n",
       "      <td>-0.011620</td>\n",
       "      <td>0.019653</td>\n",
       "      <td>-0.000658</td>\n",
       "      <td>-0.010556</td>\n",
       "      <td>-0.000254</td>\n",
       "      <td>0.000953</td>\n",
       "      <td>0.001021</td>\n",
       "      <td>0.019599</td>\n",
       "      <td>0.021638</td>\n",
       "    </tr>\n",
       "    <tr>\n",
       "      <th>term</th>\n",
       "      <td>0.393862</td>\n",
       "      <td>1.000000</td>\n",
       "      <td>0.434594</td>\n",
       "      <td>0.153378</td>\n",
       "      <td>0.060553</td>\n",
       "      <td>0.060330</td>\n",
       "      <td>0.036508</td>\n",
       "      <td>0.079575</td>\n",
       "      <td>-0.018758</td>\n",
       "      <td>0.084787</td>\n",
       "      <td>...</td>\n",
       "      <td>-0.029011</td>\n",
       "      <td>-0.031168</td>\n",
       "      <td>0.058168</td>\n",
       "      <td>-0.000179</td>\n",
       "      <td>-0.029256</td>\n",
       "      <td>-0.001291</td>\n",
       "      <td>0.000942</td>\n",
       "      <td>0.003765</td>\n",
       "      <td>0.062306</td>\n",
       "      <td>0.055373</td>\n",
       "    </tr>\n",
       "    <tr>\n",
       "      <th>int_rate</th>\n",
       "      <td>0.168921</td>\n",
       "      <td>0.434594</td>\n",
       "      <td>1.000000</td>\n",
       "      <td>0.162758</td>\n",
       "      <td>0.011718</td>\n",
       "      <td>-0.056771</td>\n",
       "      <td>0.079038</td>\n",
       "      <td>0.011649</td>\n",
       "      <td>0.060986</td>\n",
       "      <td>-0.011280</td>\n",
       "      <td>...</td>\n",
       "      <td>0.108470</td>\n",
       "      <td>-0.045131</td>\n",
       "      <td>0.086701</td>\n",
       "      <td>-0.001254</td>\n",
       "      <td>-0.042415</td>\n",
       "      <td>0.000633</td>\n",
       "      <td>0.000585</td>\n",
       "      <td>0.001037</td>\n",
       "      <td>0.085311</td>\n",
       "      <td>0.083259</td>\n",
       "    </tr>\n",
       "    <tr>\n",
       "      <th>installment</th>\n",
       "      <td>0.953929</td>\n",
       "      <td>0.153378</td>\n",
       "      <td>0.162758</td>\n",
       "      <td>1.000000</td>\n",
       "      <td>0.088124</td>\n",
       "      <td>0.330381</td>\n",
       "      <td>0.015786</td>\n",
       "      <td>0.188973</td>\n",
       "      <td>-0.067892</td>\n",
       "      <td>0.316455</td>\n",
       "      <td>...</td>\n",
       "      <td>-0.131848</td>\n",
       "      <td>-0.008217</td>\n",
       "      <td>0.013924</td>\n",
       "      <td>-0.000797</td>\n",
       "      <td>-0.007988</td>\n",
       "      <td>0.000112</td>\n",
       "      <td>0.000805</td>\n",
       "      <td>0.000032</td>\n",
       "      <td>0.012558</td>\n",
       "      <td>0.016232</td>\n",
       "    </tr>\n",
       "    <tr>\n",
       "      <th>emp_length</th>\n",
       "      <td>0.099677</td>\n",
       "      <td>0.060553</td>\n",
       "      <td>0.011718</td>\n",
       "      <td>0.088124</td>\n",
       "      <td>1.000000</td>\n",
       "      <td>0.068288</td>\n",
       "      <td>0.018106</td>\n",
       "      <td>0.043564</td>\n",
       "      <td>0.035592</td>\n",
       "      <td>0.088425</td>\n",
       "      <td>...</td>\n",
       "      <td>-0.210834</td>\n",
       "      <td>0.004046</td>\n",
       "      <td>-0.003459</td>\n",
       "      <td>-0.001090</td>\n",
       "      <td>0.001941</td>\n",
       "      <td>-0.001986</td>\n",
       "      <td>-0.000089</td>\n",
       "      <td>0.001285</td>\n",
       "      <td>-0.006788</td>\n",
       "      <td>-0.000731</td>\n",
       "    </tr>\n",
       "    <tr>\n",
       "      <th>...</th>\n",
       "      <td>...</td>\n",
       "      <td>...</td>\n",
       "      <td>...</td>\n",
       "      <td>...</td>\n",
       "      <td>...</td>\n",
       "      <td>...</td>\n",
       "      <td>...</td>\n",
       "      <td>...</td>\n",
       "      <td>...</td>\n",
       "      <td>...</td>\n",
       "      <td>...</td>\n",
       "      <td>...</td>\n",
       "      <td>...</td>\n",
       "      <td>...</td>\n",
       "      <td>...</td>\n",
       "      <td>...</td>\n",
       "      <td>...</td>\n",
       "      <td>...</td>\n",
       "      <td>...</td>\n",
       "      <td>...</td>\n",
       "      <td>...</td>\n",
       "    </tr>\n",
       "    <tr>\n",
       "      <th>30723</th>\n",
       "      <td>-0.000254</td>\n",
       "      <td>-0.001291</td>\n",
       "      <td>0.000633</td>\n",
       "      <td>0.000112</td>\n",
       "      <td>-0.001986</td>\n",
       "      <td>0.001275</td>\n",
       "      <td>0.003838</td>\n",
       "      <td>0.003090</td>\n",
       "      <td>0.001211</td>\n",
       "      <td>-0.000702</td>\n",
       "      <td>...</td>\n",
       "      <td>0.002100</td>\n",
       "      <td>-0.146861</td>\n",
       "      <td>-0.069708</td>\n",
       "      <td>-0.166532</td>\n",
       "      <td>-0.146987</td>\n",
       "      <td>1.000000</td>\n",
       "      <td>-0.165482</td>\n",
       "      <td>-0.167318</td>\n",
       "      <td>-0.068921</td>\n",
       "      <td>-0.069468</td>\n",
       "    </tr>\n",
       "    <tr>\n",
       "      <th>48052</th>\n",
       "      <td>0.000953</td>\n",
       "      <td>0.000942</td>\n",
       "      <td>0.000585</td>\n",
       "      <td>0.000805</td>\n",
       "      <td>-0.000089</td>\n",
       "      <td>-0.000320</td>\n",
       "      <td>-0.000965</td>\n",
       "      <td>0.000686</td>\n",
       "      <td>-0.002103</td>\n",
       "      <td>0.001480</td>\n",
       "      <td>...</td>\n",
       "      <td>0.000395</td>\n",
       "      <td>-0.145906</td>\n",
       "      <td>-0.069255</td>\n",
       "      <td>-0.165450</td>\n",
       "      <td>-0.146032</td>\n",
       "      <td>-0.165482</td>\n",
       "      <td>1.000000</td>\n",
       "      <td>-0.166231</td>\n",
       "      <td>-0.068474</td>\n",
       "      <td>-0.069017</td>\n",
       "    </tr>\n",
       "    <tr>\n",
       "      <th>70466</th>\n",
       "      <td>0.001021</td>\n",
       "      <td>0.003765</td>\n",
       "      <td>0.001037</td>\n",
       "      <td>0.000032</td>\n",
       "      <td>0.001285</td>\n",
       "      <td>-0.000477</td>\n",
       "      <td>-0.000852</td>\n",
       "      <td>-0.002147</td>\n",
       "      <td>-0.000993</td>\n",
       "      <td>-0.002238</td>\n",
       "      <td>...</td>\n",
       "      <td>0.001402</td>\n",
       "      <td>-0.147525</td>\n",
       "      <td>-0.070024</td>\n",
       "      <td>-0.167285</td>\n",
       "      <td>-0.147652</td>\n",
       "      <td>-0.167318</td>\n",
       "      <td>-0.166231</td>\n",
       "      <td>1.000000</td>\n",
       "      <td>-0.069233</td>\n",
       "      <td>-0.069782</td>\n",
       "    </tr>\n",
       "    <tr>\n",
       "      <th>86630</th>\n",
       "      <td>0.019599</td>\n",
       "      <td>0.062306</td>\n",
       "      <td>0.085311</td>\n",
       "      <td>0.012558</td>\n",
       "      <td>-0.006788</td>\n",
       "      <td>-0.019129</td>\n",
       "      <td>0.020687</td>\n",
       "      <td>0.009621</td>\n",
       "      <td>0.004848</td>\n",
       "      <td>-0.001981</td>\n",
       "      <td>...</td>\n",
       "      <td>0.012874</td>\n",
       "      <td>-0.060768</td>\n",
       "      <td>-0.028844</td>\n",
       "      <td>-0.068908</td>\n",
       "      <td>-0.060820</td>\n",
       "      <td>-0.068921</td>\n",
       "      <td>-0.068474</td>\n",
       "      <td>-0.069233</td>\n",
       "      <td>1.000000</td>\n",
       "      <td>-0.028745</td>\n",
       "    </tr>\n",
       "    <tr>\n",
       "      <th>93700</th>\n",
       "      <td>0.021638</td>\n",
       "      <td>0.055373</td>\n",
       "      <td>0.083259</td>\n",
       "      <td>0.016232</td>\n",
       "      <td>-0.000731</td>\n",
       "      <td>-0.015702</td>\n",
       "      <td>0.020997</td>\n",
       "      <td>0.009693</td>\n",
       "      <td>0.008140</td>\n",
       "      <td>-0.003070</td>\n",
       "      <td>...</td>\n",
       "      <td>0.012942</td>\n",
       "      <td>-0.061250</td>\n",
       "      <td>-0.029073</td>\n",
       "      <td>-0.069455</td>\n",
       "      <td>-0.061303</td>\n",
       "      <td>-0.069468</td>\n",
       "      <td>-0.069017</td>\n",
       "      <td>-0.069782</td>\n",
       "      <td>-0.028745</td>\n",
       "      <td>1.000000</td>\n",
       "    </tr>\n",
       "  </tbody>\n",
       "</table>\n",
       "<p>80 rows × 80 columns</p>\n",
       "</div>"
      ],
      "text/plain": [
       "             loan_amnt      term  int_rate  installment  emp_length  \\\n",
       "loan_amnt     1.000000  0.393862  0.168921     0.953929    0.099677   \n",
       "term          0.393862  1.000000  0.434594     0.153378    0.060553   \n",
       "int_rate      0.168921  0.434594  1.000000     0.162758    0.011718   \n",
       "installment   0.953929  0.153378  0.162758     1.000000    0.088124   \n",
       "emp_length    0.099677  0.060553  0.011718     0.088124    1.000000   \n",
       "...                ...       ...       ...          ...         ...   \n",
       "30723        -0.000254 -0.001291  0.000633     0.000112   -0.001986   \n",
       "48052         0.000953  0.000942  0.000585     0.000805   -0.000089   \n",
       "70466         0.001021  0.003765  0.001037     0.000032    0.001285   \n",
       "86630         0.019599  0.062306  0.085311     0.012558   -0.006788   \n",
       "93700         0.021638  0.055373  0.083259     0.016232   -0.000731   \n",
       "\n",
       "             annual_inc       dti  open_acc   pub_rec  revol_bal  ...  \\\n",
       "loan_amnt      0.336887  0.016636  0.198556 -0.077779   0.328320  ...   \n",
       "term           0.060330  0.036508  0.079575 -0.018758   0.084787  ...   \n",
       "int_rate      -0.056771  0.079038  0.011649  0.060986  -0.011280  ...   \n",
       "installment    0.330381  0.015786  0.188973 -0.067892   0.316455  ...   \n",
       "emp_length     0.068288  0.018106  0.043564  0.035592   0.088425  ...   \n",
       "...                 ...       ...       ...       ...        ...  ...   \n",
       "30723          0.001275  0.003838  0.003090  0.001211  -0.000702  ...   \n",
       "48052         -0.000320 -0.000965  0.000686 -0.002103   0.001480  ...   \n",
       "70466         -0.000477 -0.000852 -0.002147 -0.000993  -0.002238  ...   \n",
       "86630         -0.019129  0.020687  0.009621  0.004848  -0.001981  ...   \n",
       "93700         -0.015702  0.020997  0.009693  0.008140  -0.003070  ...   \n",
       "\n",
       "             earliest_cr_year     05113     11650     22690     29597  \\\n",
       "loan_amnt           -0.147003 -0.011620  0.019653 -0.000658 -0.010556   \n",
       "term                -0.029011 -0.031168  0.058168 -0.000179 -0.029256   \n",
       "int_rate             0.108470 -0.045131  0.086701 -0.001254 -0.042415   \n",
       "installment         -0.131848 -0.008217  0.013924 -0.000797 -0.007988   \n",
       "emp_length          -0.210834  0.004046 -0.003459 -0.001090  0.001941   \n",
       "...                       ...       ...       ...       ...       ...   \n",
       "30723                0.002100 -0.146861 -0.069708 -0.166532 -0.146987   \n",
       "48052                0.000395 -0.145906 -0.069255 -0.165450 -0.146032   \n",
       "70466                0.001402 -0.147525 -0.070024 -0.167285 -0.147652   \n",
       "86630                0.012874 -0.060768 -0.028844 -0.068908 -0.060820   \n",
       "93700                0.012942 -0.061250 -0.029073 -0.069455 -0.061303   \n",
       "\n",
       "                30723     48052     70466     86630     93700  \n",
       "loan_amnt   -0.000254  0.000953  0.001021  0.019599  0.021638  \n",
       "term        -0.001291  0.000942  0.003765  0.062306  0.055373  \n",
       "int_rate     0.000633  0.000585  0.001037  0.085311  0.083259  \n",
       "installment  0.000112  0.000805  0.000032  0.012558  0.016232  \n",
       "emp_length  -0.001986 -0.000089  0.001285 -0.006788 -0.000731  \n",
       "...               ...       ...       ...       ...       ...  \n",
       "30723        1.000000 -0.165482 -0.167318 -0.068921 -0.069468  \n",
       "48052       -0.165482  1.000000 -0.166231 -0.068474 -0.069017  \n",
       "70466       -0.167318 -0.166231  1.000000 -0.069233 -0.069782  \n",
       "86630       -0.068921 -0.068474 -0.069233  1.000000 -0.028745  \n",
       "93700       -0.069468 -0.069017 -0.069782 -0.028745  1.000000  \n",
       "\n",
       "[80 rows x 80 columns]"
      ]
     },
     "execution_count": 135,
     "metadata": {},
     "output_type": "execute_result"
    }
   ],
   "source": [
    "df.corr()"
   ]
  },
  {
   "cell_type": "code",
   "execution_count": 136,
   "id": "ded905b8-a122-482b-9e7b-cadc2fcdca08",
   "metadata": {},
   "outputs": [],
   "source": [
    "df = df.drop('installment',axis=1)"
   ]
  },
  {
   "cell_type": "code",
   "execution_count": 137,
   "id": "d4013e45-682a-45e7-9ae9-bf897f0e083c",
   "metadata": {},
   "outputs": [
    {
     "data": {
      "text/html": [
       "<div>\n",
       "<style scoped>\n",
       "    .dataframe tbody tr th:only-of-type {\n",
       "        vertical-align: middle;\n",
       "    }\n",
       "\n",
       "    .dataframe tbody tr th {\n",
       "        vertical-align: top;\n",
       "    }\n",
       "\n",
       "    .dataframe thead th {\n",
       "        text-align: right;\n",
       "    }\n",
       "</style>\n",
       "<table border=\"1\" class=\"dataframe\">\n",
       "  <thead>\n",
       "    <tr style=\"text-align: right;\">\n",
       "      <th></th>\n",
       "      <th>loan_amnt</th>\n",
       "      <th>term</th>\n",
       "      <th>int_rate</th>\n",
       "      <th>emp_length</th>\n",
       "      <th>annual_inc</th>\n",
       "      <th>dti</th>\n",
       "      <th>open_acc</th>\n",
       "      <th>pub_rec</th>\n",
       "      <th>revol_bal</th>\n",
       "      <th>revol_util</th>\n",
       "      <th>...</th>\n",
       "      <th>earliest_cr_year</th>\n",
       "      <th>05113</th>\n",
       "      <th>11650</th>\n",
       "      <th>22690</th>\n",
       "      <th>29597</th>\n",
       "      <th>30723</th>\n",
       "      <th>48052</th>\n",
       "      <th>70466</th>\n",
       "      <th>86630</th>\n",
       "      <th>93700</th>\n",
       "    </tr>\n",
       "  </thead>\n",
       "  <tbody>\n",
       "    <tr>\n",
       "      <th>0</th>\n",
       "      <td>10000.0</td>\n",
       "      <td>36</td>\n",
       "      <td>11.44</td>\n",
       "      <td>10.5</td>\n",
       "      <td>117000.0</td>\n",
       "      <td>26.24</td>\n",
       "      <td>16.0</td>\n",
       "      <td>0.0</td>\n",
       "      <td>36369.0</td>\n",
       "      <td>41.8</td>\n",
       "      <td>...</td>\n",
       "      <td>1990</td>\n",
       "      <td>0</td>\n",
       "      <td>0</td>\n",
       "      <td>1</td>\n",
       "      <td>0</td>\n",
       "      <td>0</td>\n",
       "      <td>0</td>\n",
       "      <td>0</td>\n",
       "      <td>0</td>\n",
       "      <td>0</td>\n",
       "    </tr>\n",
       "    <tr>\n",
       "      <th>1</th>\n",
       "      <td>8000.0</td>\n",
       "      <td>36</td>\n",
       "      <td>11.99</td>\n",
       "      <td>4.0</td>\n",
       "      <td>65000.0</td>\n",
       "      <td>22.05</td>\n",
       "      <td>17.0</td>\n",
       "      <td>0.0</td>\n",
       "      <td>20131.0</td>\n",
       "      <td>53.3</td>\n",
       "      <td>...</td>\n",
       "      <td>2004</td>\n",
       "      <td>1</td>\n",
       "      <td>0</td>\n",
       "      <td>0</td>\n",
       "      <td>0</td>\n",
       "      <td>0</td>\n",
       "      <td>0</td>\n",
       "      <td>0</td>\n",
       "      <td>0</td>\n",
       "      <td>0</td>\n",
       "    </tr>\n",
       "    <tr>\n",
       "      <th>2</th>\n",
       "      <td>15600.0</td>\n",
       "      <td>36</td>\n",
       "      <td>10.49</td>\n",
       "      <td>0.5</td>\n",
       "      <td>43057.0</td>\n",
       "      <td>12.79</td>\n",
       "      <td>13.0</td>\n",
       "      <td>0.0</td>\n",
       "      <td>11987.0</td>\n",
       "      <td>92.2</td>\n",
       "      <td>...</td>\n",
       "      <td>2007</td>\n",
       "      <td>1</td>\n",
       "      <td>0</td>\n",
       "      <td>0</td>\n",
       "      <td>0</td>\n",
       "      <td>0</td>\n",
       "      <td>0</td>\n",
       "      <td>0</td>\n",
       "      <td>0</td>\n",
       "      <td>0</td>\n",
       "    </tr>\n",
       "    <tr>\n",
       "      <th>3</th>\n",
       "      <td>7200.0</td>\n",
       "      <td>36</td>\n",
       "      <td>6.49</td>\n",
       "      <td>6.0</td>\n",
       "      <td>54000.0</td>\n",
       "      <td>2.60</td>\n",
       "      <td>6.0</td>\n",
       "      <td>0.0</td>\n",
       "      <td>5472.0</td>\n",
       "      <td>21.5</td>\n",
       "      <td>...</td>\n",
       "      <td>2006</td>\n",
       "      <td>0</td>\n",
       "      <td>0</td>\n",
       "      <td>0</td>\n",
       "      <td>0</td>\n",
       "      <td>0</td>\n",
       "      <td>0</td>\n",
       "      <td>0</td>\n",
       "      <td>0</td>\n",
       "      <td>0</td>\n",
       "    </tr>\n",
       "    <tr>\n",
       "      <th>4</th>\n",
       "      <td>24375.0</td>\n",
       "      <td>60</td>\n",
       "      <td>17.27</td>\n",
       "      <td>9.0</td>\n",
       "      <td>55000.0</td>\n",
       "      <td>33.95</td>\n",
       "      <td>13.0</td>\n",
       "      <td>0.0</td>\n",
       "      <td>24584.0</td>\n",
       "      <td>69.8</td>\n",
       "      <td>...</td>\n",
       "      <td>1999</td>\n",
       "      <td>0</td>\n",
       "      <td>1</td>\n",
       "      <td>0</td>\n",
       "      <td>0</td>\n",
       "      <td>0</td>\n",
       "      <td>0</td>\n",
       "      <td>0</td>\n",
       "      <td>0</td>\n",
       "      <td>0</td>\n",
       "    </tr>\n",
       "  </tbody>\n",
       "</table>\n",
       "<p>5 rows × 79 columns</p>\n",
       "</div>"
      ],
      "text/plain": [
       "   loan_amnt  term  int_rate  emp_length  annual_inc    dti  open_acc  \\\n",
       "0    10000.0    36     11.44        10.5    117000.0  26.24      16.0   \n",
       "1     8000.0    36     11.99         4.0     65000.0  22.05      17.0   \n",
       "2    15600.0    36     10.49         0.5     43057.0  12.79      13.0   \n",
       "3     7200.0    36      6.49         6.0     54000.0   2.60       6.0   \n",
       "4    24375.0    60     17.27         9.0     55000.0  33.95      13.0   \n",
       "\n",
       "   pub_rec  revol_bal  revol_util  ...  earliest_cr_year  05113  11650  22690  \\\n",
       "0      0.0    36369.0        41.8  ...              1990      0      0      1   \n",
       "1      0.0    20131.0        53.3  ...              2004      1      0      0   \n",
       "2      0.0    11987.0        92.2  ...              2007      1      0      0   \n",
       "3      0.0     5472.0        21.5  ...              2006      0      0      0   \n",
       "4      0.0    24584.0        69.8  ...              1999      0      1      0   \n",
       "\n",
       "   29597  30723  48052  70466  86630  93700  \n",
       "0      0      0      0      0      0      0  \n",
       "1      0      0      0      0      0      0  \n",
       "2      0      0      0      0      0      0  \n",
       "3      0      0      0      0      0      0  \n",
       "4      0      0      0      0      0      0  \n",
       "\n",
       "[5 rows x 79 columns]"
      ]
     },
     "execution_count": 137,
     "metadata": {},
     "output_type": "execute_result"
    }
   ],
   "source": [
    "df.head()"
   ]
  },
  {
   "cell_type": "code",
   "execution_count": null,
   "id": "463e9c8f-ef26-4795-9af1-092d5693efd6",
   "metadata": {},
   "outputs": [],
   "source": [
    "df.to_pickle(\"cleaned_data.pkl\")"
   ]
  }
 ],
 "metadata": {
  "kernelspec": {
   "display_name": "Python 3 (ipykernel)",
   "language": "python",
   "name": "python3"
  },
  "language_info": {
   "codemirror_mode": {
    "name": "ipython",
    "version": 3
   },
   "file_extension": ".py",
   "mimetype": "text/x-python",
   "name": "python",
   "nbconvert_exporter": "python",
   "pygments_lexer": "ipython3",
   "version": "3.10.0"
  }
 },
 "nbformat": 4,
 "nbformat_minor": 5
}
